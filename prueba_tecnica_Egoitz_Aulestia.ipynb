{
 "cells": [
  {
   "cell_type": "markdown",
   "metadata": {},
   "source": [
    "# **Data Scientist** \n",
    "En DataCompany queremos hacer crecer nuestro equipo con personas que tengan ganas de desarrollar \n",
    "software basado en datos con dos objetivos: ayudar en la transformación a nuestros clientes y disfrutar \n",
    "del proceso de crear valor a través de la tecnología.\n",
    " \n",
    "Si quieres ser parte de un equipo que te ofrecerá retos tecnológicos y que te exigirá una mejora y \n",
    "aprendizaje continuo, si no tienes miedo a equivocarte y eres capaz de ser proactivo y tirar del carro \n",
    "cuando te toque, es posible que DataCompany sea el sitio donde deberías trabajar. ¿Te interesa? Echa un \n",
    "vistazo a nuestras vacantes en el equipo de Data Science. \n",
    "\n",
    "**¿Sabes lo que vas a hacer además?**\n",
    "\n",
    "El objetivo del proyecto junto con el del equipo es realizar el desarrollo, entrenamiento y \n",
    "productivización de modelos para dar respuesta a necesidades de negocio del cliente. Todos los casos de \n",
    "uso que se llevarán a cabo estarán desarrollados en Cloud (AWS). \n",
    "\n",
    "**Requisitos:**\n",
    "\n",
    "- Mínimo 1 años de experiencia en en el desarrollo de piezas de Machine Learning así como \n",
    "en su implementación en entornos de nube pública \n",
    "- Programación en Python y/o R \n",
    "- Manejo de librerías de análisis, modelado y visualización de datos. \n",
    "- Conocimientos y experiencia trabajando con deep learning, especialmente NLP \n",
    "- Fuerte base en estadística. \n",
    "- Conocimientos en Git. \n",
    "- Capacidad de síntesis y habilidades comunicativas en presentaciones. \n",
    "\n",
    "**También es deseable:**\n",
    "\n",
    "- Experiencia en despliegue de modelos en producción  \n",
    "- Inglés nivel B2-C1. \n",
    "- Experiencia y entusiasmo por trabajar con metodologías ágiles (Scrum, Kanban...). \n",
    "¿Qué te ofrecemos en DataCompany? \n",
    "- Un buen ambiente de trabajo junto a compañeros que son unos cracks en sus tecnologías y \n",
    "de los que aprenderás cada día. \n",
    "- Tendrás un presupuesto personal anual de 2.000 euros para que lo dediques a la formación \n",
    "elegida por ti, adicional a cubrir el coste de tus certificaciones. \n",
    "- Horario flexible, así como teletrabajo y flexibilidad en el almuerzo, para que tu vida \n",
    "personal y profesional encajen sin problema. \n",
    "- Jornada intensiva los viernes todo el año, y los meses de julio y agosto. \n",
    "- Retribución flexible para tarjeta transporte, seguro médico para familiares y cheque \n",
    "guardería. \n",
    "- Tu evaluación y subida salarial la realizarán tus compañeros, nada de jefes porque aquí no \n",
    "encontrarás ninguno. "
   ]
  },
  {
   "cell_type": "markdown",
   "metadata": {},
   "source": [
    "# **PRUEBA TÉCNICA** \n",
    "\n",
    "Para evaluar tus conocimientos técnicos, en esta fase del proceso de selección tendrás que realizar un ejercicio práctico del que dispondrás hasta el lunes 11 donde se dará lugar a la entrevista individual. \n",
    "\n",
    "**Caso de uso** \n",
    "\n",
    "Tenemos el caso de uso de un cliente (@TheBridge_Tech) que desea desarrollar una monitorización de las redes sociales para medir el impacto de su marca y acciones \n",
    "comerciales. \n",
    "\n",
    "Tendrás que realizar las siguientes tareas: \n",
    "\n",
    "1. Recopilar los tweets donde se mencione la cuenta de @TheBridge_Tech desde el día que comenzaste el bootcamp (19 Septiembre) hasta el último día de clase (05 Diciembre). Se recomienda utilizar la API v2 de Twitter. Se deberá recoger: \n",
    "\n",
    "    a. Id del mensaje \n",
    "\n",
    "    b. Cuerpo del texto del mensaje \n",
    "\n",
    "    c. Fecha del tweet \n",
    "\n",
    "    d. Id del autor \n",
    "    \n",
    "    e. Nombre del autor \n",
    "\n",
    "    f. Nombre de usuario del autor \n",
    "\n",
    "    g. Métricas públicas del tweet (retweet, reply, like, quote) \n",
    "\n",
    "2. Almacenarlos en una base de datos SQL en 2 tablas normalizadas: (tweets, usuarios) \n",
    "\n",
    "3. Realizar un pequeño análisis donde se respondan a las siguientes preguntas de negocio: \n",
    "\n",
    "    a. ¿Cuál es el tweet con mayor repercusión social? \n",
    "\n",
    "    b. ¿Cuál es el usuario que más menciona a la escuela? \n",
    "    \n",
    "    c. ¿En qué mes se concentra el mayor número de tweets? \n",
    "\n",
    "    d. ¿Qué palabras son más frecuentes? \n",
    "\n",
    "    e. ¿Qué tipo de correlación matemática encuentras entre las métricas públicas? \n",
    "    \n",
    "    f. ¿Has sacado alguna conclusión extra en tu análisis? \n",
    "\n",
    "4. Utiliza el modelo pre entrenado que se te ha facilitado de análisis de sentimientopara determinar el sentimiento de los tweets. Preguntas: \n",
    "\n",
    "    a. ¿Cuáles son las predicciones? Interpreta los resultados. \n",
    "\n",
    "    b. ¿Qué variables son las más importantes del modelo? \n",
    "    \n",
    "    c. ¿Cómo podrías mejorar el modelo? \n",
    "    \n",
    "    d. ¿Qué otras oportunidades se te ocurren donde se podrían aplicar otros modelos de ML? \n",
    "\n",
    "5. Realizar una presentación de 5 minutos máximo, donde presentes tu solución y la defiendas en una entrevista personal. \n",
    "\n",
    "Las herramientas o recursos que necesites para el desarrollo de la prueba técnica quedan a tu elección. Deberás subir tanto tu código como la presentación a un repositorio de Git. "
   ]
  },
  {
   "cell_type": "markdown",
   "metadata": {},
   "source": [
    "---"
   ]
  },
  {
   "cell_type": "markdown",
   "metadata": {},
   "source": [
    "# **PRUEBA TECNICA**"
   ]
  },
  {
   "cell_type": "markdown",
   "metadata": {},
   "source": [
    "## ***1. Recopilar Tweets***"
   ]
  },
  {
   "cell_type": "code",
   "execution_count": 1,
   "metadata": {},
   "outputs": [],
   "source": [
    "import numpy as np\n",
    "import pandas as pd\n",
    "import seaborn as sns\n",
    "import matplotlib.pyplot as plt\n",
    "\n",
    "import sqlite3\n",
    "\n",
    "import spacy\n",
    "from collections import Counter\n",
    "import re"
   ]
  },
  {
   "cell_type": "code",
   "execution_count": 2,
   "metadata": {},
   "outputs": [
    {
     "data": {
      "text/html": [
       "<div>\n",
       "<style scoped>\n",
       "    .dataframe tbody tr th:only-of-type {\n",
       "        vertical-align: middle;\n",
       "    }\n",
       "\n",
       "    .dataframe tbody tr th {\n",
       "        vertical-align: top;\n",
       "    }\n",
       "\n",
       "    .dataframe thead th {\n",
       "        text-align: right;\n",
       "    }\n",
       "</style>\n",
       "<table border=\"1\" class=\"dataframe\">\n",
       "  <thead>\n",
       "    <tr style=\"text-align: right;\">\n",
       "      <th></th>\n",
       "      <th>Unnamed: 0</th>\n",
       "      <th>Date</th>\n",
       "      <th>User</th>\n",
       "      <th>Tweet</th>\n",
       "      <th>Likes</th>\n",
       "      <th>Retweets</th>\n",
       "      <th>Replies</th>\n",
       "    </tr>\n",
       "  </thead>\n",
       "  <tbody>\n",
       "    <tr>\n",
       "      <th>0</th>\n",
       "      <td>0</td>\n",
       "      <td>2022-05-19 15:39:16+00:00</td>\n",
       "      <td>TheBridge_Tech</td>\n",
       "      <td>¡Qué poco queda para el próximo 🔥Burn Monday🔥!...</td>\n",
       "      <td>0</td>\n",
       "      <td>2</td>\n",
       "      <td>0</td>\n",
       "    </tr>\n",
       "    <tr>\n",
       "      <th>1</th>\n",
       "      <td>1</td>\n",
       "      <td>2022-05-18 15:23:22+00:00</td>\n",
       "      <td>TheBridge_Tech</td>\n",
       "      <td>Esta es la historia de Isis🤗 que decidió hacer...</td>\n",
       "      <td>0</td>\n",
       "      <td>0</td>\n",
       "      <td>0</td>\n",
       "    </tr>\n",
       "    <tr>\n",
       "      <th>2</th>\n",
       "      <td>2</td>\n",
       "      <td>2022-05-18 11:26:31+00:00</td>\n",
       "      <td>TheBridge_Tech</td>\n",
       "      <td>Gracias @victorianoI y equipo por el análisis ...</td>\n",
       "      <td>0</td>\n",
       "      <td>0</td>\n",
       "      <td>0</td>\n",
       "    </tr>\n",
       "  </tbody>\n",
       "</table>\n",
       "</div>"
      ],
      "text/plain": [
       "   Unnamed: 0                       Date            User  \\\n",
       "0           0  2022-05-19 15:39:16+00:00  TheBridge_Tech   \n",
       "1           1  2022-05-18 15:23:22+00:00  TheBridge_Tech   \n",
       "2           2  2022-05-18 11:26:31+00:00  TheBridge_Tech   \n",
       "\n",
       "                                               Tweet  Likes  Retweets  Replies  \n",
       "0  ¡Qué poco queda para el próximo 🔥Burn Monday🔥!...      0         2        0  \n",
       "1  Esta es la historia de Isis🤗 que decidió hacer...      0         0        0  \n",
       "2  Gracias @victorianoI y equipo por el análisis ...      0         0        0  "
      ]
     },
     "execution_count": 2,
     "metadata": {},
     "output_type": "execute_result"
    }
   ],
   "source": [
    "df_old = pd.read_csv('./tweets_older.csv')\n",
    "df_old.head(3)"
   ]
  },
  {
   "cell_type": "code",
   "execution_count": 3,
   "metadata": {},
   "outputs": [
    {
     "name": "stdout",
     "output_type": "stream",
     "text": [
      "<class 'pandas.core.frame.DataFrame'>\n",
      "RangeIndex: 134 entries, 0 to 133\n",
      "Data columns (total 7 columns):\n",
      " #   Column      Non-Null Count  Dtype \n",
      "---  ------      --------------  ----- \n",
      " 0   Unnamed: 0  134 non-null    int64 \n",
      " 1   Date        134 non-null    object\n",
      " 2   User        134 non-null    object\n",
      " 3   Tweet       134 non-null    object\n",
      " 4   Likes       134 non-null    int64 \n",
      " 5   Retweets    134 non-null    int64 \n",
      " 6   Replies     134 non-null    int64 \n",
      "dtypes: int64(4), object(3)\n",
      "memory usage: 7.5+ KB\n"
     ]
    }
   ],
   "source": [
    "df_old.info()"
   ]
  },
  {
   "cell_type": "code",
   "execution_count": 4,
   "metadata": {},
   "outputs": [
    {
     "data": {
      "text/html": [
       "<div>\n",
       "<style scoped>\n",
       "    .dataframe tbody tr th:only-of-type {\n",
       "        vertical-align: middle;\n",
       "    }\n",
       "\n",
       "    .dataframe tbody tr th {\n",
       "        vertical-align: top;\n",
       "    }\n",
       "\n",
       "    .dataframe thead th {\n",
       "        text-align: right;\n",
       "    }\n",
       "</style>\n",
       "<table border=\"1\" class=\"dataframe\">\n",
       "  <thead>\n",
       "    <tr style=\"text-align: right;\">\n",
       "      <th></th>\n",
       "      <th>Date</th>\n",
       "      <th>User</th>\n",
       "      <th>Tweet</th>\n",
       "      <th>Likes</th>\n",
       "      <th>Retweets</th>\n",
       "      <th>Replies</th>\n",
       "    </tr>\n",
       "  </thead>\n",
       "  <tbody>\n",
       "    <tr>\n",
       "      <th>0</th>\n",
       "      <td>2022-05-19 15:39:16+00:00</td>\n",
       "      <td>TheBridge_Tech</td>\n",
       "      <td>¡Qué poco queda para el próximo 🔥Burn Monday🔥!...</td>\n",
       "      <td>0</td>\n",
       "      <td>2</td>\n",
       "      <td>0</td>\n",
       "    </tr>\n",
       "    <tr>\n",
       "      <th>1</th>\n",
       "      <td>2022-05-18 15:23:22+00:00</td>\n",
       "      <td>TheBridge_Tech</td>\n",
       "      <td>Esta es la historia de Isis🤗 que decidió hacer...</td>\n",
       "      <td>0</td>\n",
       "      <td>0</td>\n",
       "      <td>0</td>\n",
       "    </tr>\n",
       "    <tr>\n",
       "      <th>2</th>\n",
       "      <td>2022-05-18 11:26:31+00:00</td>\n",
       "      <td>TheBridge_Tech</td>\n",
       "      <td>Gracias @victorianoI y equipo por el análisis ...</td>\n",
       "      <td>0</td>\n",
       "      <td>0</td>\n",
       "      <td>0</td>\n",
       "    </tr>\n",
       "    <tr>\n",
       "      <th>3</th>\n",
       "      <td>2022-05-18 08:31:13+00:00</td>\n",
       "      <td>Bcasapp</td>\n",
       "      <td>¿Cómo combatir el paro juvenil🥵? #tipdeldia En...</td>\n",
       "      <td>8</td>\n",
       "      <td>4</td>\n",
       "      <td>1</td>\n",
       "    </tr>\n",
       "    <tr>\n",
       "      <th>4</th>\n",
       "      <td>2022-05-17 14:53:47+00:00</td>\n",
       "      <td>TheBridge_Tech</td>\n",
       "      <td>¿Con ganas de probar si un empleo tecnológico ...</td>\n",
       "      <td>2</td>\n",
       "      <td>2</td>\n",
       "      <td>0</td>\n",
       "    </tr>\n",
       "  </tbody>\n",
       "</table>\n",
       "</div>"
      ],
      "text/plain": [
       "                        Date            User  \\\n",
       "0  2022-05-19 15:39:16+00:00  TheBridge_Tech   \n",
       "1  2022-05-18 15:23:22+00:00  TheBridge_Tech   \n",
       "2  2022-05-18 11:26:31+00:00  TheBridge_Tech   \n",
       "3  2022-05-18 08:31:13+00:00         Bcasapp   \n",
       "4  2022-05-17 14:53:47+00:00  TheBridge_Tech   \n",
       "\n",
       "                                               Tweet  Likes  Retweets  Replies  \n",
       "0  ¡Qué poco queda para el próximo 🔥Burn Monday🔥!...      0         2        0  \n",
       "1  Esta es la historia de Isis🤗 que decidió hacer...      0         0        0  \n",
       "2  Gracias @victorianoI y equipo por el análisis ...      0         0        0  \n",
       "3  ¿Cómo combatir el paro juvenil🥵? #tipdeldia En...      8         4        1  \n",
       "4  ¿Con ganas de probar si un empleo tecnológico ...      2         2        0  "
      ]
     },
     "execution_count": 4,
     "metadata": {},
     "output_type": "execute_result"
    }
   ],
   "source": [
    "df_old_f = df_old.drop(columns=['Unnamed: 0'])\n",
    "df_old_f.head()"
   ]
  },
  {
   "cell_type": "code",
   "execution_count": 5,
   "metadata": {},
   "outputs": [],
   "source": [
    "df_old_f['Date'] = df_old_f['Date'].str.replace(r'\\+00:00$', '', regex=True)\n",
    "df_old_f['Date'] = pd.to_datetime(df_old_f['Date'], format='%Y-%m-%d %H:%M:%S')"
   ]
  },
  {
   "cell_type": "code",
   "execution_count": 6,
   "metadata": {},
   "outputs": [
    {
     "name": "stdout",
     "output_type": "stream",
     "text": [
      "                 Date            User  \\\n",
      "0 2022-05-19 15:39:16  TheBridge_Tech   \n",
      "\n",
      "                                               Tweet  Likes  Retweets  Replies  \n",
      "0  ¡Qué poco queda para el próximo 🔥Burn Monday🔥!...      0         2        0  \n",
      "<class 'pandas.core.frame.DataFrame'>\n",
      "RangeIndex: 134 entries, 0 to 133\n",
      "Data columns (total 6 columns):\n",
      " #   Column    Non-Null Count  Dtype         \n",
      "---  ------    --------------  -----         \n",
      " 0   Date      134 non-null    datetime64[ns]\n",
      " 1   User      134 non-null    object        \n",
      " 2   Tweet     134 non-null    object        \n",
      " 3   Likes     134 non-null    int64         \n",
      " 4   Retweets  134 non-null    int64         \n",
      " 5   Replies   134 non-null    int64         \n",
      "dtypes: datetime64[ns](1), int64(3), object(2)\n",
      "memory usage: 6.4+ KB\n"
     ]
    }
   ],
   "source": [
    "print(df_old_f.head(1))\n",
    "df_old_f.info()"
   ]
  },
  {
   "cell_type": "code",
   "execution_count": 7,
   "metadata": {},
   "outputs": [
    {
     "data": {
      "text/html": [
       "<div>\n",
       "<style scoped>\n",
       "    .dataframe tbody tr th:only-of-type {\n",
       "        vertical-align: middle;\n",
       "    }\n",
       "\n",
       "    .dataframe tbody tr th {\n",
       "        vertical-align: top;\n",
       "    }\n",
       "\n",
       "    .dataframe thead th {\n",
       "        text-align: right;\n",
       "    }\n",
       "</style>\n",
       "<table border=\"1\" class=\"dataframe\">\n",
       "  <thead>\n",
       "    <tr style=\"text-align: right;\">\n",
       "      <th></th>\n",
       "      <th>id</th>\n",
       "      <th>contenido</th>\n",
       "      <th>fecha_publicacion</th>\n",
       "      <th>usuario_id</th>\n",
       "      <th>retweets</th>\n",
       "      <th>replies</th>\n",
       "      <th>likes</th>\n",
       "      <th>quotes</th>\n",
       "    </tr>\n",
       "  </thead>\n",
       "  <tbody>\n",
       "    <tr>\n",
       "      <th>0</th>\n",
       "      <td>1625126689150738438</td>\n",
       "      <td>Les compartimos un mini resumen del 1º encuent...</td>\n",
       "      <td>2023-02-13 13:36:10</td>\n",
       "      <td>4899284631</td>\n",
       "      <td>0</td>\n",
       "      <td>0</td>\n",
       "      <td>2</td>\n",
       "      <td>1</td>\n",
       "    </tr>\n",
       "    <tr>\n",
       "      <th>1</th>\n",
       "      <td>1625165984414695426</td>\n",
       "      <td>¡Nos vamos al WorkinLan Workshop en Bilbao jun...</td>\n",
       "      <td>2023-02-13 16:12:19</td>\n",
       "      <td>1162694149956603904</td>\n",
       "      <td>2</td>\n",
       "      <td>0</td>\n",
       "      <td>1</td>\n",
       "      <td>0</td>\n",
       "    </tr>\n",
       "    <tr>\n",
       "      <th>2</th>\n",
       "      <td>1625813763751305216</td>\n",
       "      <td>Gracias a nuestros amigos @TheBridge_Tech por ...</td>\n",
       "      <td>2023-02-15 11:06:22</td>\n",
       "      <td>1530194743786881024</td>\n",
       "      <td>2</td>\n",
       "      <td>1</td>\n",
       "      <td>10</td>\n",
       "      <td>0</td>\n",
       "    </tr>\n",
       "  </tbody>\n",
       "</table>\n",
       "</div>"
      ],
      "text/plain": [
       "                    id                                          contenido  \\\n",
       "0  1625126689150738438  Les compartimos un mini resumen del 1º encuent...   \n",
       "1  1625165984414695426  ¡Nos vamos al WorkinLan Workshop en Bilbao jun...   \n",
       "2  1625813763751305216  Gracias a nuestros amigos @TheBridge_Tech por ...   \n",
       "\n",
       "     fecha_publicacion           usuario_id  retweets  replies  likes  quotes  \n",
       "0  2023-02-13 13:36:10           4899284631         0        0      2       1  \n",
       "1  2023-02-13 16:12:19  1162694149956603904         2        0      1       0  \n",
       "2  2023-02-15 11:06:22  1530194743786881024         2        1     10       0  "
      ]
     },
     "execution_count": 7,
     "metadata": {},
     "output_type": "execute_result"
    }
   ],
   "source": [
    "df_new_1 = pd.read_csv('./tweets_newer.csv')\n",
    "df_new_1.head(3)"
   ]
  },
  {
   "cell_type": "code",
   "execution_count": 8,
   "metadata": {},
   "outputs": [
    {
     "name": "stdout",
     "output_type": "stream",
     "text": [
      "<class 'pandas.core.frame.DataFrame'>\n",
      "RangeIndex: 143 entries, 0 to 142\n",
      "Data columns (total 8 columns):\n",
      " #   Column             Non-Null Count  Dtype \n",
      "---  ------             --------------  ----- \n",
      " 0   id                 143 non-null    int64 \n",
      " 1   contenido          143 non-null    object\n",
      " 2   fecha_publicacion  143 non-null    object\n",
      " 3   usuario_id         143 non-null    int64 \n",
      " 4   retweets           143 non-null    int64 \n",
      " 5   replies            143 non-null    int64 \n",
      " 6   likes              143 non-null    int64 \n",
      " 7   quotes             143 non-null    int64 \n",
      "dtypes: int64(6), object(2)\n",
      "memory usage: 9.1+ KB\n"
     ]
    }
   ],
   "source": [
    "df_new_1.info()"
   ]
  },
  {
   "cell_type": "code",
   "execution_count": 9,
   "metadata": {},
   "outputs": [
    {
     "data": {
      "text/html": [
       "<div>\n",
       "<style scoped>\n",
       "    .dataframe tbody tr th:only-of-type {\n",
       "        vertical-align: middle;\n",
       "    }\n",
       "\n",
       "    .dataframe tbody tr th {\n",
       "        vertical-align: top;\n",
       "    }\n",
       "\n",
       "    .dataframe thead th {\n",
       "        text-align: right;\n",
       "    }\n",
       "</style>\n",
       "<table border=\"1\" class=\"dataframe\">\n",
       "  <thead>\n",
       "    <tr style=\"text-align: right;\">\n",
       "      <th></th>\n",
       "      <th>id</th>\n",
       "      <th>nombre</th>\n",
       "      <th>nombre_usuario</th>\n",
       "    </tr>\n",
       "  </thead>\n",
       "  <tbody>\n",
       "    <tr>\n",
       "      <th>0</th>\n",
       "      <td>987047282</td>\n",
       "      <td>A3Sec</td>\n",
       "      <td>a3sec</td>\n",
       "    </tr>\n",
       "    <tr>\n",
       "      <th>1</th>\n",
       "      <td>1162694149956603904</td>\n",
       "      <td>The Bridge</td>\n",
       "      <td>TheBridge_Tech</td>\n",
       "    </tr>\n",
       "    <tr>\n",
       "      <th>2</th>\n",
       "      <td>41545659</td>\n",
       "      <td>Mario Lopez de Avila</td>\n",
       "      <td>nodosenlared</td>\n",
       "    </tr>\n",
       "  </tbody>\n",
       "</table>\n",
       "</div>"
      ],
      "text/plain": [
       "                    id                nombre  nombre_usuario\n",
       "0            987047282                 A3Sec           a3sec\n",
       "1  1162694149956603904            The Bridge  TheBridge_Tech\n",
       "2             41545659  Mario Lopez de Avila    nodosenlared"
      ]
     },
     "execution_count": 9,
     "metadata": {},
     "output_type": "execute_result"
    }
   ],
   "source": [
    "df_new_2 = pd.read_csv('./users.csv')\n",
    "df_new_2.head(3)"
   ]
  },
  {
   "cell_type": "code",
   "execution_count": 10,
   "metadata": {},
   "outputs": [
    {
     "name": "stdout",
     "output_type": "stream",
     "text": [
      "<class 'pandas.core.frame.DataFrame'>\n",
      "RangeIndex: 143 entries, 0 to 142\n",
      "Data columns (total 3 columns):\n",
      " #   Column          Non-Null Count  Dtype \n",
      "---  ------          --------------  ----- \n",
      " 0   id              143 non-null    int64 \n",
      " 1   nombre          143 non-null    object\n",
      " 2   nombre_usuario  143 non-null    object\n",
      "dtypes: int64(1), object(2)\n",
      "memory usage: 3.5+ KB\n"
     ]
    }
   ],
   "source": [
    "df_new_2.info()"
   ]
  },
  {
   "cell_type": "code",
   "execution_count": 11,
   "metadata": {},
   "outputs": [
    {
     "data": {
      "text/html": [
       "<div>\n",
       "<style scoped>\n",
       "    .dataframe tbody tr th:only-of-type {\n",
       "        vertical-align: middle;\n",
       "    }\n",
       "\n",
       "    .dataframe tbody tr th {\n",
       "        vertical-align: top;\n",
       "    }\n",
       "\n",
       "    .dataframe thead th {\n",
       "        text-align: right;\n",
       "    }\n",
       "</style>\n",
       "<table border=\"1\" class=\"dataframe\">\n",
       "  <thead>\n",
       "    <tr style=\"text-align: right;\">\n",
       "      <th></th>\n",
       "      <th>id</th>\n",
       "      <th>contenido</th>\n",
       "      <th>fecha_publicacion</th>\n",
       "      <th>usuario_id</th>\n",
       "      <th>retweets</th>\n",
       "      <th>replies</th>\n",
       "      <th>likes</th>\n",
       "      <th>quotes</th>\n",
       "    </tr>\n",
       "  </thead>\n",
       "  <tbody>\n",
       "    <tr>\n",
       "      <th>142</th>\n",
       "      <td>1659514560200470559</td>\n",
       "      <td>Ayer visitamos a los alumnos de @TheBridge_Tec...</td>\n",
       "      <td>2023-05-19 11:01:18</td>\n",
       "      <td>987047282</td>\n",
       "      <td>1</td>\n",
       "      <td>0</td>\n",
       "      <td>3</td>\n",
       "      <td>1</td>\n",
       "    </tr>\n",
       "  </tbody>\n",
       "</table>\n",
       "</div>"
      ],
      "text/plain": [
       "                      id                                          contenido  \\\n",
       "142  1659514560200470559  Ayer visitamos a los alumnos de @TheBridge_Tec...   \n",
       "\n",
       "       fecha_publicacion  usuario_id  retweets  replies  likes  quotes  \n",
       "142  2023-05-19 11:01:18   987047282         1        0      3       1  "
      ]
     },
     "execution_count": 11,
     "metadata": {},
     "output_type": "execute_result"
    }
   ],
   "source": [
    "df_new_1[df_new_1['usuario_id']==987047282]\n"
   ]
  },
  {
   "cell_type": "markdown",
   "metadata": {},
   "source": [
    "df_new_1['usuario_id'] == df_new_2['id']"
   ]
  },
  {
   "cell_type": "markdown",
   "metadata": {},
   "source": [
    "pd.merge(frame_1, frame_2, left_on='county_ID', right_on='countyid')"
   ]
  },
  {
   "cell_type": "code",
   "execution_count": 12,
   "metadata": {},
   "outputs": [
    {
     "name": "stdout",
     "output_type": "stream",
     "text": [
      "Duplicados en df_new_1: 105\n"
     ]
    }
   ],
   "source": [
    "print(\"Duplicados en df_new_1:\", df_new_2['id'].duplicated().sum())\n"
   ]
  },
  {
   "cell_type": "code",
   "execution_count": 13,
   "metadata": {},
   "outputs": [
    {
     "name": "stdout",
     "output_type": "stream",
     "text": [
      "<class 'pandas.core.frame.DataFrame'>\n",
      "RangeIndex: 143 entries, 0 to 142\n",
      "Data columns (total 3 columns):\n",
      " #   Column          Non-Null Count  Dtype \n",
      "---  ------          --------------  ----- \n",
      " 0   id              143 non-null    int64 \n",
      " 1   nombre          143 non-null    object\n",
      " 2   nombre_usuario  143 non-null    object\n",
      "dtypes: int64(1), object(2)\n",
      "memory usage: 3.5+ KB\n"
     ]
    }
   ],
   "source": [
    "df_new_2.info()"
   ]
  },
  {
   "cell_type": "code",
   "execution_count": 14,
   "metadata": {},
   "outputs": [
    {
     "data": {
      "text/plain": [
       "'@42UrdulizFTef @EstiLeon @workinlansummit @TheBridge_Tech @BBK_eus Hoy finaliza #WORKinlan y lo hace ya con una buena participación en Twitter y eso que aún queda todo el día de hoy 💪 https://t.co/54lcCbyUGi'"
      ]
     },
     "execution_count": 14,
     "metadata": {},
     "output_type": "execute_result"
    }
   ],
   "source": [
    "df_new_1['contenido'].iloc[9]"
   ]
  },
  {
   "cell_type": "code",
   "execution_count": 15,
   "metadata": {},
   "outputs": [
    {
     "data": {
      "text/plain": [
       "'@42UrdulizFTef @EstiLeon @workinlansummit @TheBridge_Tech @BBK_eus @PSEBizkaia @josebamondarain @grupo_ssi @socialistavasco @PSEBilbao @MtzGra @elcorreo_alava @elcorreo_com Muy buenas interacciones están teniendo las comunidades de las siguientes cuentas que copan el TOP 12 del #WORKinlan 🏆 https://t.co/g8SdZl1vL2'"
      ]
     },
     "execution_count": 15,
     "metadata": {},
     "output_type": "execute_result"
    }
   ],
   "source": [
    "df_new_1['contenido'].iloc[10]"
   ]
  },
  {
   "cell_type": "code",
   "execution_count": 16,
   "metadata": {},
   "outputs": [
    {
     "data": {
      "text/html": [
       "<div>\n",
       "<style scoped>\n",
       "    .dataframe tbody tr th:only-of-type {\n",
       "        vertical-align: middle;\n",
       "    }\n",
       "\n",
       "    .dataframe tbody tr th {\n",
       "        vertical-align: top;\n",
       "    }\n",
       "\n",
       "    .dataframe thead th {\n",
       "        text-align: right;\n",
       "    }\n",
       "</style>\n",
       "<table border=\"1\" class=\"dataframe\">\n",
       "  <thead>\n",
       "    <tr style=\"text-align: right;\">\n",
       "      <th></th>\n",
       "      <th>id</th>\n",
       "      <th>contenido</th>\n",
       "      <th>fecha_publicacion</th>\n",
       "      <th>usuario_id</th>\n",
       "      <th>retweets</th>\n",
       "      <th>replies</th>\n",
       "      <th>likes</th>\n",
       "      <th>quotes</th>\n",
       "    </tr>\n",
       "  </thead>\n",
       "  <tbody>\n",
       "    <tr>\n",
       "      <th>0</th>\n",
       "      <td>1625126689150738438</td>\n",
       "      <td>Les compartimos un mini resumen del 1º encuent...</td>\n",
       "      <td>2023-02-13 13:36:10</td>\n",
       "      <td>4899284631</td>\n",
       "      <td>0</td>\n",
       "      <td>0</td>\n",
       "      <td>2</td>\n",
       "      <td>1</td>\n",
       "    </tr>\n",
       "    <tr>\n",
       "      <th>1</th>\n",
       "      <td>1625165984414695426</td>\n",
       "      <td>¡Nos vamos al WorkinLan Workshop en Bilbao jun...</td>\n",
       "      <td>2023-02-13 16:12:19</td>\n",
       "      <td>1162694149956603904</td>\n",
       "      <td>2</td>\n",
       "      <td>0</td>\n",
       "      <td>1</td>\n",
       "      <td>0</td>\n",
       "    </tr>\n",
       "    <tr>\n",
       "      <th>2</th>\n",
       "      <td>1625813763751305216</td>\n",
       "      <td>Gracias a nuestros amigos @TheBridge_Tech por ...</td>\n",
       "      <td>2023-02-15 11:06:22</td>\n",
       "      <td>1530194743786881024</td>\n",
       "      <td>2</td>\n",
       "      <td>1</td>\n",
       "      <td>10</td>\n",
       "      <td>0</td>\n",
       "    </tr>\n",
       "    <tr>\n",
       "      <th>3</th>\n",
       "      <td>1625825721862987777</td>\n",
       "      <td>@BitcoinTuesday_ ¡Un placer!</td>\n",
       "      <td>2023-02-15 11:53:53</td>\n",
       "      <td>1162694149956603904</td>\n",
       "      <td>0</td>\n",
       "      <td>0</td>\n",
       "      <td>2</td>\n",
       "      <td>0</td>\n",
       "    </tr>\n",
       "    <tr>\n",
       "      <th>4</th>\n",
       "      <td>1625828554691805187</td>\n",
       "      <td>¿Los colores tienen género?¿podemos hacer una ...</td>\n",
       "      <td>2023-02-15 12:05:08</td>\n",
       "      <td>1162694149956603904</td>\n",
       "      <td>2</td>\n",
       "      <td>1</td>\n",
       "      <td>2</td>\n",
       "      <td>0</td>\n",
       "    </tr>\n",
       "    <tr>\n",
       "      <th>5</th>\n",
       "      <td>1625882688023416833</td>\n",
       "      <td>¿Te animas a crear un videojuego con programac...</td>\n",
       "      <td>2023-02-15 15:40:14</td>\n",
       "      <td>1162694149956603904</td>\n",
       "      <td>3</td>\n",
       "      <td>0</td>\n",
       "      <td>2</td>\n",
       "      <td>0</td>\n",
       "    </tr>\n",
       "    <tr>\n",
       "      <th>6</th>\n",
       "      <td>1626101043908993026</td>\n",
       "      <td>@TheBridge_Tech @Vacolba @andresmacariog inter...</td>\n",
       "      <td>2023-02-16 06:07:55</td>\n",
       "      <td>1099588676181471233</td>\n",
       "      <td>0</td>\n",
       "      <td>0</td>\n",
       "      <td>1</td>\n",
       "      <td>0</td>\n",
       "    </tr>\n",
       "    <tr>\n",
       "      <th>7</th>\n",
       "      <td>1626157411085033472</td>\n",
       "      <td>Buenos días CPSers!\\nHoy podemos confirmar que...</td>\n",
       "      <td>2023-02-16 09:51:54</td>\n",
       "      <td>1003872445</td>\n",
       "      <td>0</td>\n",
       "      <td>1</td>\n",
       "      <td>4</td>\n",
       "      <td>0</td>\n",
       "    </tr>\n",
       "    <tr>\n",
       "      <th>8</th>\n",
       "      <td>1626267048434192385</td>\n",
       "      <td>.@EstiLeon, Responsable del campus #42UrdulizF...</td>\n",
       "      <td>2023-02-16 17:07:33</td>\n",
       "      <td>1288769305014939650</td>\n",
       "      <td>5</td>\n",
       "      <td>1</td>\n",
       "      <td>10</td>\n",
       "      <td>0</td>\n",
       "    </tr>\n",
       "    <tr>\n",
       "      <th>9</th>\n",
       "      <td>1626573019844907008</td>\n",
       "      <td>@42UrdulizFTef @EstiLeon @workinlansummit @The...</td>\n",
       "      <td>2023-02-17 13:23:22</td>\n",
       "      <td>1685197165</td>\n",
       "      <td>0</td>\n",
       "      <td>1</td>\n",
       "      <td>0</td>\n",
       "      <td>0</td>\n",
       "    </tr>\n",
       "  </tbody>\n",
       "</table>\n",
       "</div>"
      ],
      "text/plain": [
       "                    id                                          contenido  \\\n",
       "0  1625126689150738438  Les compartimos un mini resumen del 1º encuent...   \n",
       "1  1625165984414695426  ¡Nos vamos al WorkinLan Workshop en Bilbao jun...   \n",
       "2  1625813763751305216  Gracias a nuestros amigos @TheBridge_Tech por ...   \n",
       "3  1625825721862987777                       @BitcoinTuesday_ ¡Un placer!   \n",
       "4  1625828554691805187  ¿Los colores tienen género?¿podemos hacer una ...   \n",
       "5  1625882688023416833  ¿Te animas a crear un videojuego con programac...   \n",
       "6  1626101043908993026  @TheBridge_Tech @Vacolba @andresmacariog inter...   \n",
       "7  1626157411085033472  Buenos días CPSers!\\nHoy podemos confirmar que...   \n",
       "8  1626267048434192385  .@EstiLeon, Responsable del campus #42UrdulizF...   \n",
       "9  1626573019844907008  @42UrdulizFTef @EstiLeon @workinlansummit @The...   \n",
       "\n",
       "     fecha_publicacion           usuario_id  retweets  replies  likes  quotes  \n",
       "0  2023-02-13 13:36:10           4899284631         0        0      2       1  \n",
       "1  2023-02-13 16:12:19  1162694149956603904         2        0      1       0  \n",
       "2  2023-02-15 11:06:22  1530194743786881024         2        1     10       0  \n",
       "3  2023-02-15 11:53:53  1162694149956603904         0        0      2       0  \n",
       "4  2023-02-15 12:05:08  1162694149956603904         2        1      2       0  \n",
       "5  2023-02-15 15:40:14  1162694149956603904         3        0      2       0  \n",
       "6  2023-02-16 06:07:55  1099588676181471233         0        0      1       0  \n",
       "7  2023-02-16 09:51:54           1003872445         0        1      4       0  \n",
       "8  2023-02-16 17:07:33  1288769305014939650         5        1     10       0  \n",
       "9  2023-02-17 13:23:22           1685197165         0        1      0       0  "
      ]
     },
     "execution_count": 16,
     "metadata": {},
     "output_type": "execute_result"
    }
   ],
   "source": [
    "df_new_1.head(10)"
   ]
  },
  {
   "cell_type": "code",
   "execution_count": 17,
   "metadata": {},
   "outputs": [
    {
     "data": {
      "text/html": [
       "<div>\n",
       "<style scoped>\n",
       "    .dataframe tbody tr th:only-of-type {\n",
       "        vertical-align: middle;\n",
       "    }\n",
       "\n",
       "    .dataframe tbody tr th {\n",
       "        vertical-align: top;\n",
       "    }\n",
       "\n",
       "    .dataframe thead th {\n",
       "        text-align: right;\n",
       "    }\n",
       "</style>\n",
       "<table border=\"1\" class=\"dataframe\">\n",
       "  <thead>\n",
       "    <tr style=\"text-align: right;\">\n",
       "      <th></th>\n",
       "      <th>id</th>\n",
       "      <th>nombre</th>\n",
       "      <th>nombre_usuario</th>\n",
       "    </tr>\n",
       "  </thead>\n",
       "  <tbody>\n",
       "    <tr>\n",
       "      <th>0</th>\n",
       "      <td>987047282</td>\n",
       "      <td>A3Sec</td>\n",
       "      <td>a3sec</td>\n",
       "    </tr>\n",
       "    <tr>\n",
       "      <th>1</th>\n",
       "      <td>1162694149956603904</td>\n",
       "      <td>The Bridge</td>\n",
       "      <td>TheBridge_Tech</td>\n",
       "    </tr>\n",
       "    <tr>\n",
       "      <th>2</th>\n",
       "      <td>41545659</td>\n",
       "      <td>Mario Lopez de Avila</td>\n",
       "      <td>nodosenlared</td>\n",
       "    </tr>\n",
       "    <tr>\n",
       "      <th>3</th>\n",
       "      <td>1162694149956603904</td>\n",
       "      <td>The Bridge</td>\n",
       "      <td>TheBridge_Tech</td>\n",
       "    </tr>\n",
       "    <tr>\n",
       "      <th>4</th>\n",
       "      <td>1162694149956603904</td>\n",
       "      <td>The Bridge</td>\n",
       "      <td>TheBridge_Tech</td>\n",
       "    </tr>\n",
       "    <tr>\n",
       "      <th>5</th>\n",
       "      <td>1585726199485140993</td>\n",
       "      <td>Asociación de Estudiantes de Software Libre UPO</td>\n",
       "      <td>ESOLIUPO</td>\n",
       "    </tr>\n",
       "    <tr>\n",
       "      <th>6</th>\n",
       "      <td>1585726199485140993</td>\n",
       "      <td>Asociación de Estudiantes de Software Libre UPO</td>\n",
       "      <td>ESOLIUPO</td>\n",
       "    </tr>\n",
       "    <tr>\n",
       "      <th>7</th>\n",
       "      <td>1585726199485140993</td>\n",
       "      <td>Asociación de Estudiantes de Software Libre UPO</td>\n",
       "      <td>ESOLIUPO</td>\n",
       "    </tr>\n",
       "    <tr>\n",
       "      <th>8</th>\n",
       "      <td>41545659</td>\n",
       "      <td>Mario Lopez de Avila</td>\n",
       "      <td>nodosenlared</td>\n",
       "    </tr>\n",
       "    <tr>\n",
       "      <th>9</th>\n",
       "      <td>1162694149956603904</td>\n",
       "      <td>The Bridge</td>\n",
       "      <td>TheBridge_Tech</td>\n",
       "    </tr>\n",
       "  </tbody>\n",
       "</table>\n",
       "</div>"
      ],
      "text/plain": [
       "                    id                                           nombre  \\\n",
       "0            987047282                                            A3Sec   \n",
       "1  1162694149956603904                                       The Bridge   \n",
       "2             41545659                             Mario Lopez de Avila   \n",
       "3  1162694149956603904                                       The Bridge   \n",
       "4  1162694149956603904                                       The Bridge   \n",
       "5  1585726199485140993  Asociación de Estudiantes de Software Libre UPO   \n",
       "6  1585726199485140993  Asociación de Estudiantes de Software Libre UPO   \n",
       "7  1585726199485140993  Asociación de Estudiantes de Software Libre UPO   \n",
       "8             41545659                             Mario Lopez de Avila   \n",
       "9  1162694149956603904                                       The Bridge   \n",
       "\n",
       "   nombre_usuario  \n",
       "0           a3sec  \n",
       "1  TheBridge_Tech  \n",
       "2    nodosenlared  \n",
       "3  TheBridge_Tech  \n",
       "4  TheBridge_Tech  \n",
       "5        ESOLIUPO  \n",
       "6        ESOLIUPO  \n",
       "7        ESOLIUPO  \n",
       "8    nodosenlared  \n",
       "9  TheBridge_Tech  "
      ]
     },
     "execution_count": 17,
     "metadata": {},
     "output_type": "execute_result"
    }
   ],
   "source": [
    "df_new_2.head(10)"
   ]
  },
  {
   "cell_type": "code",
   "execution_count": 18,
   "metadata": {},
   "outputs": [
    {
     "name": "stdout",
     "output_type": "stream",
     "text": [
      "Duplicados en df_new_2: 105\n"
     ]
    }
   ],
   "source": [
    "print(\"Duplicados en df_new_2:\", df_new_2['id'].duplicated().sum())"
   ]
  },
  {
   "cell_type": "markdown",
   "metadata": {},
   "source": [
    "Observamos que tenemos muestras duplicadas en df_new_2 por lo que las vamos a eliminar con el codigo de la celda de abajo."
   ]
  },
  {
   "cell_type": "code",
   "execution_count": 19,
   "metadata": {},
   "outputs": [],
   "source": [
    "# Eliminar duplicados en df_new_2\n",
    "df_new_2 = df_new_2.drop_duplicates(subset='id')\n",
    "\n",
    "# Realizar el merge nuevamente\n",
    "df_new_merged = pd.merge(df_new_1, df_new_2, left_on='usuario_id', right_on='id', how='left')"
   ]
  },
  {
   "cell_type": "code",
   "execution_count": 20,
   "metadata": {},
   "outputs": [
    {
     "name": "stdout",
     "output_type": "stream",
     "text": [
      "<class 'pandas.core.frame.DataFrame'>\n",
      "RangeIndex: 143 entries, 0 to 142\n",
      "Data columns (total 11 columns):\n",
      " #   Column             Non-Null Count  Dtype \n",
      "---  ------             --------------  ----- \n",
      " 0   id_x               143 non-null    int64 \n",
      " 1   contenido          143 non-null    object\n",
      " 2   fecha_publicacion  143 non-null    object\n",
      " 3   usuario_id         143 non-null    int64 \n",
      " 4   retweets           143 non-null    int64 \n",
      " 5   replies            143 non-null    int64 \n",
      " 6   likes              143 non-null    int64 \n",
      " 7   quotes             143 non-null    int64 \n",
      " 8   id_y               143 non-null    int64 \n",
      " 9   nombre             143 non-null    object\n",
      " 10  nombre_usuario     143 non-null    object\n",
      "dtypes: int64(7), object(4)\n",
      "memory usage: 12.4+ KB\n"
     ]
    }
   ],
   "source": [
    "df_new_merged.info()"
   ]
  },
  {
   "cell_type": "markdown",
   "metadata": {},
   "source": [
    "df.rename(columns={\"A\": \"a\", \"B\": \"c\"})\n"
   ]
  },
  {
   "cell_type": "code",
   "execution_count": 21,
   "metadata": {},
   "outputs": [
    {
     "data": {
      "text/html": [
       "<div>\n",
       "<style scoped>\n",
       "    .dataframe tbody tr th:only-of-type {\n",
       "        vertical-align: middle;\n",
       "    }\n",
       "\n",
       "    .dataframe tbody tr th {\n",
       "        vertical-align: top;\n",
       "    }\n",
       "\n",
       "    .dataframe thead th {\n",
       "        text-align: right;\n",
       "    }\n",
       "</style>\n",
       "<table border=\"1\" class=\"dataframe\">\n",
       "  <thead>\n",
       "    <tr style=\"text-align: right;\">\n",
       "      <th></th>\n",
       "      <th>id_x</th>\n",
       "      <th>contenido</th>\n",
       "      <th>fecha_publicacion</th>\n",
       "      <th>ID_User</th>\n",
       "      <th>retweets</th>\n",
       "      <th>replies</th>\n",
       "      <th>likes</th>\n",
       "      <th>quotes</th>\n",
       "      <th>id_y</th>\n",
       "      <th>nombre</th>\n",
       "      <th>nombre_usuario</th>\n",
       "    </tr>\n",
       "  </thead>\n",
       "  <tbody>\n",
       "    <tr>\n",
       "      <th>0</th>\n",
       "      <td>1625126689150738438</td>\n",
       "      <td>Les compartimos un mini resumen del 1º encuent...</td>\n",
       "      <td>2023-02-13 13:36:10</td>\n",
       "      <td>4899284631</td>\n",
       "      <td>0</td>\n",
       "      <td>0</td>\n",
       "      <td>2</td>\n",
       "      <td>1</td>\n",
       "      <td>4899284631</td>\n",
       "      <td>My Tech Plan</td>\n",
       "      <td>my_tech_plan</td>\n",
       "    </tr>\n",
       "  </tbody>\n",
       "</table>\n",
       "</div>"
      ],
      "text/plain": [
       "                  id_x                                          contenido  \\\n",
       "0  1625126689150738438  Les compartimos un mini resumen del 1º encuent...   \n",
       "\n",
       "     fecha_publicacion     ID_User  retweets  replies  likes  quotes  \\\n",
       "0  2023-02-13 13:36:10  4899284631         0        0      2       1   \n",
       "\n",
       "         id_y        nombre nombre_usuario  \n",
       "0  4899284631  My Tech Plan   my_tech_plan  "
      ]
     },
     "execution_count": 21,
     "metadata": {},
     "output_type": "execute_result"
    }
   ],
   "source": [
    "df_new_m_fin = df_new_merged.rename(columns={'usuario_id': 'ID_User'})\n",
    "df_new_m_fin.head(1)"
   ]
  },
  {
   "cell_type": "code",
   "execution_count": 22,
   "metadata": {},
   "outputs": [
    {
     "data": {
      "text/html": [
       "<div>\n",
       "<style scoped>\n",
       "    .dataframe tbody tr th:only-of-type {\n",
       "        vertical-align: middle;\n",
       "    }\n",
       "\n",
       "    .dataframe tbody tr th {\n",
       "        vertical-align: top;\n",
       "    }\n",
       "\n",
       "    .dataframe thead th {\n",
       "        text-align: right;\n",
       "    }\n",
       "</style>\n",
       "<table border=\"1\" class=\"dataframe\">\n",
       "  <thead>\n",
       "    <tr style=\"text-align: right;\">\n",
       "      <th></th>\n",
       "      <th>contenido</th>\n",
       "      <th>fecha_publicacion</th>\n",
       "      <th>ID_User</th>\n",
       "      <th>retweets</th>\n",
       "      <th>replies</th>\n",
       "      <th>likes</th>\n",
       "      <th>nombre</th>\n",
       "      <th>nombre_usuario</th>\n",
       "    </tr>\n",
       "  </thead>\n",
       "  <tbody>\n",
       "    <tr>\n",
       "      <th>0</th>\n",
       "      <td>Les compartimos un mini resumen del 1º encuent...</td>\n",
       "      <td>2023-02-13 13:36:10</td>\n",
       "      <td>4899284631</td>\n",
       "      <td>0</td>\n",
       "      <td>0</td>\n",
       "      <td>2</td>\n",
       "      <td>My Tech Plan</td>\n",
       "      <td>my_tech_plan</td>\n",
       "    </tr>\n",
       "  </tbody>\n",
       "</table>\n",
       "</div>"
      ],
      "text/plain": [
       "                                           contenido    fecha_publicacion  \\\n",
       "0  Les compartimos un mini resumen del 1º encuent...  2023-02-13 13:36:10   \n",
       "\n",
       "      ID_User  retweets  replies  likes        nombre nombre_usuario  \n",
       "0  4899284631         0        0      2  My Tech Plan   my_tech_plan  "
      ]
     },
     "execution_count": 22,
     "metadata": {},
     "output_type": "execute_result"
    }
   ],
   "source": [
    "# Dropeamos columans\n",
    "df_new_m_fin = df_new_m_fin.drop(columns=['id_x', 'quotes', 'id_y'])\n",
    "df_new_m_fin.head(1)"
   ]
  },
  {
   "cell_type": "code",
   "execution_count": 23,
   "metadata": {},
   "outputs": [
    {
     "data": {
      "text/html": [
       "<div>\n",
       "<style scoped>\n",
       "    .dataframe tbody tr th:only-of-type {\n",
       "        vertical-align: middle;\n",
       "    }\n",
       "\n",
       "    .dataframe tbody tr th {\n",
       "        vertical-align: top;\n",
       "    }\n",
       "\n",
       "    .dataframe thead th {\n",
       "        text-align: right;\n",
       "    }\n",
       "</style>\n",
       "<table border=\"1\" class=\"dataframe\">\n",
       "  <thead>\n",
       "    <tr style=\"text-align: right;\">\n",
       "      <th></th>\n",
       "      <th>Tweet</th>\n",
       "      <th>Date</th>\n",
       "      <th>ID_User</th>\n",
       "      <th>Retweets</th>\n",
       "      <th>Replies</th>\n",
       "      <th>Likes</th>\n",
       "      <th>nombre</th>\n",
       "      <th>User</th>\n",
       "    </tr>\n",
       "  </thead>\n",
       "  <tbody>\n",
       "    <tr>\n",
       "      <th>0</th>\n",
       "      <td>Les compartimos un mini resumen del 1º encuent...</td>\n",
       "      <td>2023-02-13 13:36:10</td>\n",
       "      <td>4899284631</td>\n",
       "      <td>0</td>\n",
       "      <td>0</td>\n",
       "      <td>2</td>\n",
       "      <td>My Tech Plan</td>\n",
       "      <td>my_tech_plan</td>\n",
       "    </tr>\n",
       "  </tbody>\n",
       "</table>\n",
       "</div>"
      ],
      "text/plain": [
       "                                               Tweet                 Date  \\\n",
       "0  Les compartimos un mini resumen del 1º encuent...  2023-02-13 13:36:10   \n",
       "\n",
       "      ID_User  Retweets  Replies  Likes        nombre          User  \n",
       "0  4899284631         0        0      2  My Tech Plan  my_tech_plan  "
      ]
     },
     "execution_count": 23,
     "metadata": {},
     "output_type": "execute_result"
    }
   ],
   "source": [
    "# Renombramos las columnas\n",
    "df_new_m_fin = df_new_m_fin.rename(columns={'contenido': 'Tweet', 'fecha_publicacion': 'Date', 'likes': 'Likes', 'replies': 'Replies', 'retweets': 'Retweets', 'nombre_usuario': 'User'})\n",
    "df_new_m_fin.head(1)"
   ]
  },
  {
   "cell_type": "code",
   "execution_count": 24,
   "metadata": {},
   "outputs": [
    {
     "data": {
      "text/html": [
       "<div>\n",
       "<style scoped>\n",
       "    .dataframe tbody tr th:only-of-type {\n",
       "        vertical-align: middle;\n",
       "    }\n",
       "\n",
       "    .dataframe tbody tr th {\n",
       "        vertical-align: top;\n",
       "    }\n",
       "\n",
       "    .dataframe thead th {\n",
       "        text-align: right;\n",
       "    }\n",
       "</style>\n",
       "<table border=\"1\" class=\"dataframe\">\n",
       "  <thead>\n",
       "    <tr style=\"text-align: right;\">\n",
       "      <th></th>\n",
       "      <th>Date</th>\n",
       "      <th>User</th>\n",
       "      <th>Tweet</th>\n",
       "      <th>Likes</th>\n",
       "      <th>Retweets</th>\n",
       "      <th>Replies</th>\n",
       "    </tr>\n",
       "  </thead>\n",
       "  <tbody>\n",
       "    <tr>\n",
       "      <th>0</th>\n",
       "      <td>2022-05-19 15:39:16</td>\n",
       "      <td>TheBridge_Tech</td>\n",
       "      <td>¡Qué poco queda para el próximo 🔥Burn Monday🔥!...</td>\n",
       "      <td>0</td>\n",
       "      <td>2</td>\n",
       "      <td>0</td>\n",
       "    </tr>\n",
       "  </tbody>\n",
       "</table>\n",
       "</div>"
      ],
      "text/plain": [
       "                 Date            User  \\\n",
       "0 2022-05-19 15:39:16  TheBridge_Tech   \n",
       "\n",
       "                                               Tweet  Likes  Retweets  Replies  \n",
       "0  ¡Qué poco queda para el próximo 🔥Burn Monday🔥!...      0         2        0  "
      ]
     },
     "execution_count": 24,
     "metadata": {},
     "output_type": "execute_result"
    }
   ],
   "source": [
    "df_old_f.head(1)"
   ]
  },
  {
   "cell_type": "code",
   "execution_count": 25,
   "metadata": {},
   "outputs": [],
   "source": [
    "nuevo_orden = ['Date', 'User', 'Tweet', 'Likes', 'Retweets', 'Replies']"
   ]
  },
  {
   "cell_type": "code",
   "execution_count": 26,
   "metadata": {},
   "outputs": [],
   "source": [
    "df_new_m_fin = df_new_m_fin[nuevo_orden]"
   ]
  },
  {
   "cell_type": "code",
   "execution_count": 27,
   "metadata": {},
   "outputs": [
    {
     "data": {
      "text/html": [
       "<div>\n",
       "<style scoped>\n",
       "    .dataframe tbody tr th:only-of-type {\n",
       "        vertical-align: middle;\n",
       "    }\n",
       "\n",
       "    .dataframe tbody tr th {\n",
       "        vertical-align: top;\n",
       "    }\n",
       "\n",
       "    .dataframe thead th {\n",
       "        text-align: right;\n",
       "    }\n",
       "</style>\n",
       "<table border=\"1\" class=\"dataframe\">\n",
       "  <thead>\n",
       "    <tr style=\"text-align: right;\">\n",
       "      <th></th>\n",
       "      <th>Date</th>\n",
       "      <th>User</th>\n",
       "      <th>Tweet</th>\n",
       "      <th>Likes</th>\n",
       "      <th>Retweets</th>\n",
       "      <th>Replies</th>\n",
       "    </tr>\n",
       "  </thead>\n",
       "  <tbody>\n",
       "    <tr>\n",
       "      <th>0</th>\n",
       "      <td>2023-02-13 13:36:10</td>\n",
       "      <td>my_tech_plan</td>\n",
       "      <td>Les compartimos un mini resumen del 1º encuent...</td>\n",
       "      <td>2</td>\n",
       "      <td>0</td>\n",
       "      <td>0</td>\n",
       "    </tr>\n",
       "  </tbody>\n",
       "</table>\n",
       "</div>"
      ],
      "text/plain": [
       "                  Date          User  \\\n",
       "0  2023-02-13 13:36:10  my_tech_plan   \n",
       "\n",
       "                                               Tweet  Likes  Retweets  Replies  \n",
       "0  Les compartimos un mini resumen del 1º encuent...      2         0        0  "
      ]
     },
     "execution_count": 27,
     "metadata": {},
     "output_type": "execute_result"
    }
   ],
   "source": [
    "df_new_m_fin.head(1)"
   ]
  },
  {
   "cell_type": "code",
   "execution_count": 28,
   "metadata": {},
   "outputs": [
    {
     "name": "stdout",
     "output_type": "stream",
     "text": [
      "<class 'pandas.core.frame.DataFrame'>\n",
      "RangeIndex: 143 entries, 0 to 142\n",
      "Data columns (total 6 columns):\n",
      " #   Column    Non-Null Count  Dtype \n",
      "---  ------    --------------  ----- \n",
      " 0   Date      143 non-null    object\n",
      " 1   User      143 non-null    object\n",
      " 2   Tweet     143 non-null    object\n",
      " 3   Likes     143 non-null    int64 \n",
      " 4   Retweets  143 non-null    int64 \n",
      " 5   Replies   143 non-null    int64 \n",
      "dtypes: int64(3), object(3)\n",
      "memory usage: 6.8+ KB\n"
     ]
    }
   ],
   "source": [
    "df_new_m_fin.info()"
   ]
  },
  {
   "cell_type": "code",
   "execution_count": 29,
   "metadata": {},
   "outputs": [
    {
     "data": {
      "text/plain": [
       "(143, 11)"
      ]
     },
     "execution_count": 29,
     "metadata": {},
     "output_type": "execute_result"
    }
   ],
   "source": [
    "df_new_merged.shape"
   ]
  },
  {
   "cell_type": "code",
   "execution_count": 30,
   "metadata": {},
   "outputs": [
    {
     "name": "stdout",
     "output_type": "stream",
     "text": [
      "                  id_x                                          contenido  \\\n",
      "0  1625126689150738438  Les compartimos un mini resumen del 1º encuent...   \n",
      "1  1625165984414695426  ¡Nos vamos al WorkinLan Workshop en Bilbao jun...   \n",
      "2  1625813763751305216  Gracias a nuestros amigos @TheBridge_Tech por ...   \n",
      "3  1625825721862987777                       @BitcoinTuesday_ ¡Un placer!   \n",
      "4  1625828554691805187  ¿Los colores tienen género?¿podemos hacer una ...   \n",
      "\n",
      "     fecha_publicacion           usuario_id  retweets  replies  likes  quotes  \\\n",
      "0  2023-02-13 13:36:10           4899284631         0        0      2       1   \n",
      "1  2023-02-13 16:12:19  1162694149956603904         2        0      1       0   \n",
      "2  2023-02-15 11:06:22  1530194743786881024         2        1     10       0   \n",
      "3  2023-02-15 11:53:53  1162694149956603904         0        0      2       0   \n",
      "4  2023-02-15 12:05:08  1162694149956603904         2        1      2       0   \n",
      "\n",
      "                  id_y           nombre   nombre_usuario  \n",
      "0           4899284631     My Tech Plan     my_tech_plan  \n",
      "1  1162694149956603904       The Bridge   TheBridge_Tech  \n",
      "2  1530194743786881024  Bitcoin Tuesday  BitcoinTuesday_  \n",
      "3  1162694149956603904       The Bridge   TheBridge_Tech  \n",
      "4  1162694149956603904       The Bridge   TheBridge_Tech  \n"
     ]
    }
   ],
   "source": [
    "print(df_new_merged.head())\n"
   ]
  },
  {
   "cell_type": "code",
   "execution_count": 31,
   "metadata": {},
   "outputs": [
    {
     "name": "stdout",
     "output_type": "stream",
     "text": [
      "<class 'pandas.core.frame.DataFrame'>\n",
      "RangeIndex: 134 entries, 0 to 133\n",
      "Data columns (total 6 columns):\n",
      " #   Column    Non-Null Count  Dtype         \n",
      "---  ------    --------------  -----         \n",
      " 0   Date      134 non-null    datetime64[ns]\n",
      " 1   User      134 non-null    object        \n",
      " 2   Tweet     134 non-null    object        \n",
      " 3   Likes     134 non-null    int64         \n",
      " 4   Retweets  134 non-null    int64         \n",
      " 5   Replies   134 non-null    int64         \n",
      "dtypes: datetime64[ns](1), int64(3), object(2)\n",
      "memory usage: 6.4+ KB\n"
     ]
    }
   ],
   "source": [
    "df_old_f.info()"
   ]
  },
  {
   "cell_type": "code",
   "execution_count": 32,
   "metadata": {},
   "outputs": [],
   "source": [
    "df_new_m_fin['Date'] = pd.to_datetime(df_new_m_fin['Date'], format='%Y-%m-%d %H:%M:%S')"
   ]
  },
  {
   "cell_type": "code",
   "execution_count": 33,
   "metadata": {},
   "outputs": [
    {
     "name": "stdout",
     "output_type": "stream",
     "text": [
      "<class 'pandas.core.frame.DataFrame'>\n",
      "RangeIndex: 143 entries, 0 to 142\n",
      "Data columns (total 6 columns):\n",
      " #   Column    Non-Null Count  Dtype         \n",
      "---  ------    --------------  -----         \n",
      " 0   Date      143 non-null    datetime64[ns]\n",
      " 1   User      143 non-null    object        \n",
      " 2   Tweet     143 non-null    object        \n",
      " 3   Likes     143 non-null    int64         \n",
      " 4   Retweets  143 non-null    int64         \n",
      " 5   Replies   143 non-null    int64         \n",
      "dtypes: datetime64[ns](1), int64(3), object(2)\n",
      "memory usage: 6.8+ KB\n"
     ]
    }
   ],
   "source": [
    "df_new_m_fin.info()"
   ]
  },
  {
   "cell_type": "code",
   "execution_count": 34,
   "metadata": {},
   "outputs": [
    {
     "name": "stdout",
     "output_type": "stream",
     "text": [
      "                 Date            User  \\\n",
      "0 2022-05-19 15:39:16  TheBridge_Tech   \n",
      "\n",
      "                                               Tweet  Likes  Retweets  Replies  \n",
      "0  ¡Qué poco queda para el próximo 🔥Burn Monday🔥!...      0         2        0  \n",
      "                 Date          User  \\\n",
      "0 2023-02-13 13:36:10  my_tech_plan   \n",
      "\n",
      "                                               Tweet  Likes  Retweets  Replies  \n",
      "0  Les compartimos un mini resumen del 1º encuent...      2         0        0  \n"
     ]
    }
   ],
   "source": [
    "print(df_old_f.head(1))\n",
    "print(df_new_m_fin.head(1))"
   ]
  },
  {
   "cell_type": "code",
   "execution_count": 35,
   "metadata": {},
   "outputs": [
    {
     "name": "stdout",
     "output_type": "stream",
     "text": [
      "<class 'pandas.core.frame.DataFrame'>\n",
      "RangeIndex: 134 entries, 0 to 133\n",
      "Data columns (total 6 columns):\n",
      " #   Column    Non-Null Count  Dtype         \n",
      "---  ------    --------------  -----         \n",
      " 0   Date      134 non-null    datetime64[ns]\n",
      " 1   User      134 non-null    object        \n",
      " 2   Tweet     134 non-null    object        \n",
      " 3   Likes     134 non-null    int64         \n",
      " 4   Retweets  134 non-null    int64         \n",
      " 5   Replies   134 non-null    int64         \n",
      "dtypes: datetime64[ns](1), int64(3), object(2)\n",
      "memory usage: 6.4+ KB\n",
      "None\n",
      "<class 'pandas.core.frame.DataFrame'>\n",
      "RangeIndex: 143 entries, 0 to 142\n",
      "Data columns (total 6 columns):\n",
      " #   Column    Non-Null Count  Dtype         \n",
      "---  ------    --------------  -----         \n",
      " 0   Date      143 non-null    datetime64[ns]\n",
      " 1   User      143 non-null    object        \n",
      " 2   Tweet     143 non-null    object        \n",
      " 3   Likes     143 non-null    int64         \n",
      " 4   Retweets  143 non-null    int64         \n",
      " 5   Replies   143 non-null    int64         \n",
      "dtypes: datetime64[ns](1), int64(3), object(2)\n",
      "memory usage: 6.8+ KB\n",
      "None\n"
     ]
    }
   ],
   "source": [
    "print(df_old_f.info())\n",
    "print(df_new_m_fin.info())"
   ]
  },
  {
   "cell_type": "code",
   "execution_count": 36,
   "metadata": {},
   "outputs": [
    {
     "name": "stdout",
     "output_type": "stream",
     "text": [
      "                 Date            User  \\\n",
      "0 2022-05-19 15:39:16  TheBridge_Tech   \n",
      "\n",
      "                                               Tweet  Likes  Retweets  Replies  \n",
      "0  ¡Qué poco queda para el próximo 🔥Burn Monday🔥!...      0         2        0  \n",
      "                   Date   User  \\\n",
      "142 2023-05-19 11:01:18  a3sec   \n",
      "\n",
      "                                                 Tweet  Likes  Retweets  \\\n",
      "142  Ayer visitamos a los alumnos de @TheBridge_Tec...      3         1   \n",
      "\n",
      "     Replies  \n",
      "142        0  \n"
     ]
    }
   ],
   "source": [
    "df_twitter = pd.concat([df_old_f, df_new_m_fin])\n",
    "print(df_twitter.head(1))\n",
    "print(df_twitter.tail(1))"
   ]
  },
  {
   "cell_type": "code",
   "execution_count": 37,
   "metadata": {},
   "outputs": [
    {
     "data": {
      "text/html": [
       "<div>\n",
       "<style scoped>\n",
       "    .dataframe tbody tr th:only-of-type {\n",
       "        vertical-align: middle;\n",
       "    }\n",
       "\n",
       "    .dataframe tbody tr th {\n",
       "        vertical-align: top;\n",
       "    }\n",
       "\n",
       "    .dataframe thead th {\n",
       "        text-align: right;\n",
       "    }\n",
       "</style>\n",
       "<table border=\"1\" class=\"dataframe\">\n",
       "  <thead>\n",
       "    <tr style=\"text-align: right;\">\n",
       "      <th></th>\n",
       "      <th>Date</th>\n",
       "      <th>User</th>\n",
       "      <th>Tweet</th>\n",
       "      <th>Likes</th>\n",
       "      <th>Retweets</th>\n",
       "      <th>Replies</th>\n",
       "    </tr>\n",
       "  </thead>\n",
       "  <tbody>\n",
       "    <tr>\n",
       "      <th>0</th>\n",
       "      <td>2022-05-19 15:39:16</td>\n",
       "      <td>TheBridge_Tech</td>\n",
       "      <td>¡Qué poco queda para el próximo 🔥Burn Monday🔥!...</td>\n",
       "      <td>0</td>\n",
       "      <td>2</td>\n",
       "      <td>0</td>\n",
       "    </tr>\n",
       "  </tbody>\n",
       "</table>\n",
       "</div>"
      ],
      "text/plain": [
       "                 Date            User  \\\n",
       "0 2022-05-19 15:39:16  TheBridge_Tech   \n",
       "\n",
       "                                               Tweet  Likes  Retweets  Replies  \n",
       "0  ¡Qué poco queda para el próximo 🔥Burn Monday🔥!...      0         2        0  "
      ]
     },
     "execution_count": 37,
     "metadata": {},
     "output_type": "execute_result"
    }
   ],
   "source": [
    "df_twitter.head(1)"
   ]
  },
  {
   "cell_type": "code",
   "execution_count": 38,
   "metadata": {},
   "outputs": [
    {
     "data": {
      "text/html": [
       "<div>\n",
       "<style scoped>\n",
       "    .dataframe tbody tr th:only-of-type {\n",
       "        vertical-align: middle;\n",
       "    }\n",
       "\n",
       "    .dataframe tbody tr th {\n",
       "        vertical-align: top;\n",
       "    }\n",
       "\n",
       "    .dataframe thead th {\n",
       "        text-align: right;\n",
       "    }\n",
       "</style>\n",
       "<table border=\"1\" class=\"dataframe\">\n",
       "  <thead>\n",
       "    <tr style=\"text-align: right;\">\n",
       "      <th></th>\n",
       "      <th>Date</th>\n",
       "      <th>User</th>\n",
       "      <th>Tweet</th>\n",
       "      <th>Likes</th>\n",
       "      <th>Retweets</th>\n",
       "      <th>Replies</th>\n",
       "    </tr>\n",
       "  </thead>\n",
       "  <tbody>\n",
       "    <tr>\n",
       "      <th>0</th>\n",
       "      <td>2022-05-19 15:39:16</td>\n",
       "      <td>TheBridge_Tech</td>\n",
       "      <td>¡Qué poco queda para el próximo 🔥Burn Monday🔥!...</td>\n",
       "      <td>0</td>\n",
       "      <td>2</td>\n",
       "      <td>0</td>\n",
       "    </tr>\n",
       "    <tr>\n",
       "      <th>1</th>\n",
       "      <td>2022-05-18 15:23:22</td>\n",
       "      <td>TheBridge_Tech</td>\n",
       "      <td>Esta es la historia de Isis🤗 que decidió hacer...</td>\n",
       "      <td>0</td>\n",
       "      <td>0</td>\n",
       "      <td>0</td>\n",
       "    </tr>\n",
       "    <tr>\n",
       "      <th>2</th>\n",
       "      <td>2022-05-18 11:26:31</td>\n",
       "      <td>TheBridge_Tech</td>\n",
       "      <td>Gracias @victorianoI y equipo por el análisis ...</td>\n",
       "      <td>0</td>\n",
       "      <td>0</td>\n",
       "      <td>0</td>\n",
       "    </tr>\n",
       "    <tr>\n",
       "      <th>3</th>\n",
       "      <td>2022-05-18 08:31:13</td>\n",
       "      <td>Bcasapp</td>\n",
       "      <td>¿Cómo combatir el paro juvenil🥵? #tipdeldia En...</td>\n",
       "      <td>8</td>\n",
       "      <td>4</td>\n",
       "      <td>1</td>\n",
       "    </tr>\n",
       "    <tr>\n",
       "      <th>4</th>\n",
       "      <td>2022-05-17 14:53:47</td>\n",
       "      <td>TheBridge_Tech</td>\n",
       "      <td>¿Con ganas de probar si un empleo tecnológico ...</td>\n",
       "      <td>2</td>\n",
       "      <td>2</td>\n",
       "      <td>0</td>\n",
       "    </tr>\n",
       "    <tr>\n",
       "      <th>...</th>\n",
       "      <td>...</td>\n",
       "      <td>...</td>\n",
       "      <td>...</td>\n",
       "      <td>...</td>\n",
       "      <td>...</td>\n",
       "      <td>...</td>\n",
       "    </tr>\n",
       "    <tr>\n",
       "      <th>138</th>\n",
       "      <td>2023-05-16 11:15:34</td>\n",
       "      <td>TheBridge_Tech</td>\n",
       "      <td>Así es el #bootcamp de #UXUIProductDesign que ...</td>\n",
       "      <td>3</td>\n",
       "      <td>1</td>\n",
       "      <td>0</td>\n",
       "    </tr>\n",
       "    <tr>\n",
       "      <th>139</th>\n",
       "      <td>2023-05-17 11:06:23</td>\n",
       "      <td>TheBridge_Tech</td>\n",
       "      <td>Nos colamos en el campus de #Bilbao para descu...</td>\n",
       "      <td>2</td>\n",
       "      <td>1</td>\n",
       "      <td>0</td>\n",
       "    </tr>\n",
       "    <tr>\n",
       "      <th>140</th>\n",
       "      <td>2023-05-17 13:21:52</td>\n",
       "      <td>nodosenlared</td>\n",
       "      <td>#MLMonitoring and #Observability, mar, 23 may ...</td>\n",
       "      <td>3</td>\n",
       "      <td>1</td>\n",
       "      <td>0</td>\n",
       "    </tr>\n",
       "    <tr>\n",
       "      <th>141</th>\n",
       "      <td>2023-05-18 10:00:23</td>\n",
       "      <td>TheBridge_Tech</td>\n",
       "      <td>¿Qué hacían nuestros alumni antes del #bootcam...</td>\n",
       "      <td>0</td>\n",
       "      <td>0</td>\n",
       "      <td>0</td>\n",
       "    </tr>\n",
       "    <tr>\n",
       "      <th>142</th>\n",
       "      <td>2023-05-19 11:01:18</td>\n",
       "      <td>a3sec</td>\n",
       "      <td>Ayer visitamos a los alumnos de @TheBridge_Tec...</td>\n",
       "      <td>3</td>\n",
       "      <td>1</td>\n",
       "      <td>0</td>\n",
       "    </tr>\n",
       "  </tbody>\n",
       "</table>\n",
       "<p>277 rows × 6 columns</p>\n",
       "</div>"
      ],
      "text/plain": [
       "                   Date            User  \\\n",
       "0   2022-05-19 15:39:16  TheBridge_Tech   \n",
       "1   2022-05-18 15:23:22  TheBridge_Tech   \n",
       "2   2022-05-18 11:26:31  TheBridge_Tech   \n",
       "3   2022-05-18 08:31:13         Bcasapp   \n",
       "4   2022-05-17 14:53:47  TheBridge_Tech   \n",
       "..                  ...             ...   \n",
       "138 2023-05-16 11:15:34  TheBridge_Tech   \n",
       "139 2023-05-17 11:06:23  TheBridge_Tech   \n",
       "140 2023-05-17 13:21:52    nodosenlared   \n",
       "141 2023-05-18 10:00:23  TheBridge_Tech   \n",
       "142 2023-05-19 11:01:18           a3sec   \n",
       "\n",
       "                                                 Tweet  Likes  Retweets  \\\n",
       "0    ¡Qué poco queda para el próximo 🔥Burn Monday🔥!...      0         2   \n",
       "1    Esta es la historia de Isis🤗 que decidió hacer...      0         0   \n",
       "2    Gracias @victorianoI y equipo por el análisis ...      0         0   \n",
       "3    ¿Cómo combatir el paro juvenil🥵? #tipdeldia En...      8         4   \n",
       "4    ¿Con ganas de probar si un empleo tecnológico ...      2         2   \n",
       "..                                                 ...    ...       ...   \n",
       "138  Así es el #bootcamp de #UXUIProductDesign que ...      3         1   \n",
       "139  Nos colamos en el campus de #Bilbao para descu...      2         1   \n",
       "140  #MLMonitoring and #Observability, mar, 23 may ...      3         1   \n",
       "141  ¿Qué hacían nuestros alumni antes del #bootcam...      0         0   \n",
       "142  Ayer visitamos a los alumnos de @TheBridge_Tec...      3         1   \n",
       "\n",
       "     Replies  \n",
       "0          0  \n",
       "1          0  \n",
       "2          0  \n",
       "3          1  \n",
       "4          0  \n",
       "..       ...  \n",
       "138        0  \n",
       "139        0  \n",
       "140        0  \n",
       "141        0  \n",
       "142        0  \n",
       "\n",
       "[277 rows x 6 columns]"
      ]
     },
     "execution_count": 38,
     "metadata": {},
     "output_type": "execute_result"
    }
   ],
   "source": [
    "df_twitter"
   ]
  },
  {
   "cell_type": "code",
   "execution_count": 39,
   "metadata": {},
   "outputs": [
    {
     "name": "stdout",
     "output_type": "stream",
     "text": [
      "<class 'pandas.core.frame.DataFrame'>\n",
      "Index: 277 entries, 0 to 142\n",
      "Data columns (total 6 columns):\n",
      " #   Column    Non-Null Count  Dtype         \n",
      "---  ------    --------------  -----         \n",
      " 0   Date      277 non-null    datetime64[ns]\n",
      " 1   User      277 non-null    object        \n",
      " 2   Tweet     277 non-null    object        \n",
      " 3   Likes     277 non-null    int64         \n",
      " 4   Retweets  277 non-null    int64         \n",
      " 5   Replies   277 non-null    int64         \n",
      "dtypes: datetime64[ns](1), int64(3), object(2)\n",
      "memory usage: 15.1+ KB\n"
     ]
    }
   ],
   "source": [
    "df_twitter.info()"
   ]
  },
  {
   "cell_type": "code",
   "execution_count": 40,
   "metadata": {},
   "outputs": [
    {
     "data": {
      "text/html": [
       "<div>\n",
       "<style scoped>\n",
       "    .dataframe tbody tr th:only-of-type {\n",
       "        vertical-align: middle;\n",
       "    }\n",
       "\n",
       "    .dataframe tbody tr th {\n",
       "        vertical-align: top;\n",
       "    }\n",
       "\n",
       "    .dataframe thead th {\n",
       "        text-align: right;\n",
       "    }\n",
       "</style>\n",
       "<table border=\"1\" class=\"dataframe\">\n",
       "  <thead>\n",
       "    <tr style=\"text-align: right;\">\n",
       "      <th></th>\n",
       "      <th>Date</th>\n",
       "      <th>User</th>\n",
       "      <th>Tweet</th>\n",
       "      <th>Likes</th>\n",
       "      <th>Retweets</th>\n",
       "      <th>Replies</th>\n",
       "    </tr>\n",
       "  </thead>\n",
       "  <tbody>\n",
       "    <tr>\n",
       "      <th>0</th>\n",
       "      <td>2023-02-13 13:36:10</td>\n",
       "      <td>my_tech_plan</td>\n",
       "      <td>Les compartimos un mini resumen del 1º encuent...</td>\n",
       "      <td>2</td>\n",
       "      <td>0</td>\n",
       "      <td>0</td>\n",
       "    </tr>\n",
       "    <tr>\n",
       "      <th>1</th>\n",
       "      <td>2023-02-13 16:12:19</td>\n",
       "      <td>TheBridge_Tech</td>\n",
       "      <td>¡Nos vamos al WorkinLan Workshop en Bilbao jun...</td>\n",
       "      <td>1</td>\n",
       "      <td>2</td>\n",
       "      <td>0</td>\n",
       "    </tr>\n",
       "    <tr>\n",
       "      <th>2</th>\n",
       "      <td>2023-02-15 11:06:22</td>\n",
       "      <td>BitcoinTuesday_</td>\n",
       "      <td>Gracias a nuestros amigos @TheBridge_Tech por ...</td>\n",
       "      <td>10</td>\n",
       "      <td>2</td>\n",
       "      <td>1</td>\n",
       "    </tr>\n",
       "    <tr>\n",
       "      <th>3</th>\n",
       "      <td>2023-02-15 11:53:53</td>\n",
       "      <td>TheBridge_Tech</td>\n",
       "      <td>@BitcoinTuesday_ ¡Un placer!</td>\n",
       "      <td>2</td>\n",
       "      <td>0</td>\n",
       "      <td>0</td>\n",
       "    </tr>\n",
       "    <tr>\n",
       "      <th>4</th>\n",
       "      <td>2023-02-15 12:05:08</td>\n",
       "      <td>TheBridge_Tech</td>\n",
       "      <td>¿Los colores tienen género?¿podemos hacer una ...</td>\n",
       "      <td>2</td>\n",
       "      <td>2</td>\n",
       "      <td>1</td>\n",
       "    </tr>\n",
       "  </tbody>\n",
       "</table>\n",
       "</div>"
      ],
      "text/plain": [
       "                 Date             User  \\\n",
       "0 2023-02-13 13:36:10     my_tech_plan   \n",
       "1 2023-02-13 16:12:19   TheBridge_Tech   \n",
       "2 2023-02-15 11:06:22  BitcoinTuesday_   \n",
       "3 2023-02-15 11:53:53   TheBridge_Tech   \n",
       "4 2023-02-15 12:05:08   TheBridge_Tech   \n",
       "\n",
       "                                               Tweet  Likes  Retweets  Replies  \n",
       "0  Les compartimos un mini resumen del 1º encuent...      2         0        0  \n",
       "1  ¡Nos vamos al WorkinLan Workshop en Bilbao jun...      1         2        0  \n",
       "2  Gracias a nuestros amigos @TheBridge_Tech por ...     10         2        1  \n",
       "3                       @BitcoinTuesday_ ¡Un placer!      2         0        0  \n",
       "4  ¿Los colores tienen género?¿podemos hacer una ...      2         2        1  "
      ]
     },
     "execution_count": 40,
     "metadata": {},
     "output_type": "execute_result"
    }
   ],
   "source": [
    "df_new_m_fin.head()"
   ]
  },
  {
   "cell_type": "code",
   "execution_count": 41,
   "metadata": {},
   "outputs": [
    {
     "name": "stdout",
     "output_type": "stream",
     "text": [
      "Duplicados en df_new_2: 2\n"
     ]
    }
   ],
   "source": [
    "print(\"Duplicados en df_new_2:\", df_twitter['Date'].duplicated().sum())"
   ]
  },
  {
   "cell_type": "code",
   "execution_count": 42,
   "metadata": {},
   "outputs": [
    {
     "name": "stdout",
     "output_type": "stream",
     "text": [
      "                   Date      User  \\\n",
      "22  2023-03-06 10:38:30  ESOLIUPO   \n",
      "23  2023-03-06 10:38:30  ESOLIUPO   \n",
      "135 2023-05-15 20:44:05  ESOLIUPO   \n",
      "136 2023-05-15 20:44:05  ESOLIUPO   \n",
      "\n",
      "                                                 Tweet  Likes  Retweets  \\\n",
      "22   ¡Por fin podemos publicar el cartel con los po...      5         3   \n",
      "23   Las inscripciones se realizarán por Eventbrite...      0         0   \n",
      "135  ¡¡Recuerda que todavía siguen las entradas par...      4         4   \n",
      "136  Si todavía no has pillado las entradas (que so...      1         0   \n",
      "\n",
      "     Replies  \n",
      "22         1  \n",
      "23         0  \n",
      "135        1  \n",
      "136        1  \n"
     ]
    }
   ],
   "source": [
    "# Identificar todas las instancias duplicadas en la columna 'Date'\n",
    "duplicados = df_twitter[df_twitter['Date'].duplicated(keep=False)]\n",
    "\n",
    "# Imprimir las muestras duplicadas\n",
    "print(duplicados)\n"
   ]
  },
  {
   "cell_type": "code",
   "execution_count": 43,
   "metadata": {},
   "outputs": [],
   "source": [
    "df_usuarios = df_twitter[['User']].drop_duplicates().reset_index(drop=True)\n",
    "df_usuarios['user_id'] = df_usuarios.index + 1 # Creamos un ID de usuario único"
   ]
  },
  {
   "cell_type": "code",
   "execution_count": 44,
   "metadata": {},
   "outputs": [
    {
     "data": {
      "text/html": [
       "<div>\n",
       "<style scoped>\n",
       "    .dataframe tbody tr th:only-of-type {\n",
       "        vertical-align: middle;\n",
       "    }\n",
       "\n",
       "    .dataframe tbody tr th {\n",
       "        vertical-align: top;\n",
       "    }\n",
       "\n",
       "    .dataframe thead th {\n",
       "        text-align: right;\n",
       "    }\n",
       "</style>\n",
       "<table border=\"1\" class=\"dataframe\">\n",
       "  <thead>\n",
       "    <tr style=\"text-align: right;\">\n",
       "      <th></th>\n",
       "      <th>User</th>\n",
       "      <th>user_id</th>\n",
       "    </tr>\n",
       "  </thead>\n",
       "  <tbody>\n",
       "    <tr>\n",
       "      <th>0</th>\n",
       "      <td>TheBridge_Tech</td>\n",
       "      <td>1</td>\n",
       "    </tr>\n",
       "    <tr>\n",
       "      <th>1</th>\n",
       "      <td>Bcasapp</td>\n",
       "      <td>2</td>\n",
       "    </tr>\n",
       "    <tr>\n",
       "      <th>2</th>\n",
       "      <td>PdelaPublicidad</td>\n",
       "      <td>3</td>\n",
       "    </tr>\n",
       "    <tr>\n",
       "      <th>3</th>\n",
       "      <td>arey</td>\n",
       "      <td>4</td>\n",
       "    </tr>\n",
       "    <tr>\n",
       "      <th>4</th>\n",
       "      <td>Alberto_Blanco</td>\n",
       "      <td>5</td>\n",
       "    </tr>\n",
       "    <tr>\n",
       "      <th>...</th>\n",
       "      <td>...</td>\n",
       "      <td>...</td>\n",
       "    </tr>\n",
       "    <tr>\n",
       "      <th>90</th>\n",
       "      <td>EDEMempresarios</td>\n",
       "      <td>91</td>\n",
       "    </tr>\n",
       "    <tr>\n",
       "      <th>91</th>\n",
       "      <td>ProductoActual1</td>\n",
       "      <td>92</td>\n",
       "    </tr>\n",
       "    <tr>\n",
       "      <th>92</th>\n",
       "      <td>jorgegrev</td>\n",
       "      <td>93</td>\n",
       "    </tr>\n",
       "    <tr>\n",
       "      <th>93</th>\n",
       "      <td>Madrid4Refugees</td>\n",
       "      <td>94</td>\n",
       "    </tr>\n",
       "    <tr>\n",
       "      <th>94</th>\n",
       "      <td>a3sec</td>\n",
       "      <td>95</td>\n",
       "    </tr>\n",
       "  </tbody>\n",
       "</table>\n",
       "<p>95 rows × 2 columns</p>\n",
       "</div>"
      ],
      "text/plain": [
       "               User  user_id\n",
       "0    TheBridge_Tech        1\n",
       "1           Bcasapp        2\n",
       "2   PdelaPublicidad        3\n",
       "3              arey        4\n",
       "4    Alberto_Blanco        5\n",
       "..              ...      ...\n",
       "90  EDEMempresarios       91\n",
       "91  ProductoActual1       92\n",
       "92        jorgegrev       93\n",
       "93  Madrid4Refugees       94\n",
       "94            a3sec       95\n",
       "\n",
       "[95 rows x 2 columns]"
      ]
     },
     "execution_count": 44,
     "metadata": {},
     "output_type": "execute_result"
    }
   ],
   "source": [
    "df_usuarios"
   ]
  },
  {
   "cell_type": "code",
   "execution_count": 45,
   "metadata": {},
   "outputs": [],
   "source": [
    "nuevo_orden = ['user_id', 'User']\n",
    "df_usuarios = df_usuarios[nuevo_orden]"
   ]
  },
  {
   "cell_type": "code",
   "execution_count": 46,
   "metadata": {},
   "outputs": [],
   "source": [
    "# Mapear 'User' a 'user_id'\n",
    "user_id_map = df_usuarios.set_index('User')['user_id'].to_dict()\n",
    "df_twitter['user_id'] = df_twitter['User'].map(user_id_map)\n",
    "\n",
    "# Creamos el DataFrame df_tweets con la estructura deseada\n",
    "df_tweets = df_twitter[['user_id', 'Date', 'Tweet', 'Likes', 'Retweets', 'Replies']]"
   ]
  },
  {
   "cell_type": "code",
   "execution_count": 47,
   "metadata": {},
   "outputs": [
    {
     "data": {
      "text/html": [
       "<div>\n",
       "<style scoped>\n",
       "    .dataframe tbody tr th:only-of-type {\n",
       "        vertical-align: middle;\n",
       "    }\n",
       "\n",
       "    .dataframe tbody tr th {\n",
       "        vertical-align: top;\n",
       "    }\n",
       "\n",
       "    .dataframe thead th {\n",
       "        text-align: right;\n",
       "    }\n",
       "</style>\n",
       "<table border=\"1\" class=\"dataframe\">\n",
       "  <thead>\n",
       "    <tr style=\"text-align: right;\">\n",
       "      <th></th>\n",
       "      <th>user_id</th>\n",
       "      <th>Date</th>\n",
       "      <th>Tweet</th>\n",
       "      <th>Likes</th>\n",
       "      <th>Retweets</th>\n",
       "      <th>Replies</th>\n",
       "    </tr>\n",
       "  </thead>\n",
       "  <tbody>\n",
       "    <tr>\n",
       "      <th>0</th>\n",
       "      <td>1</td>\n",
       "      <td>2022-05-19 15:39:16</td>\n",
       "      <td>¡Qué poco queda para el próximo 🔥Burn Monday🔥!...</td>\n",
       "      <td>0</td>\n",
       "      <td>2</td>\n",
       "      <td>0</td>\n",
       "    </tr>\n",
       "    <tr>\n",
       "      <th>1</th>\n",
       "      <td>1</td>\n",
       "      <td>2022-05-18 15:23:22</td>\n",
       "      <td>Esta es la historia de Isis🤗 que decidió hacer...</td>\n",
       "      <td>0</td>\n",
       "      <td>0</td>\n",
       "      <td>0</td>\n",
       "    </tr>\n",
       "    <tr>\n",
       "      <th>2</th>\n",
       "      <td>1</td>\n",
       "      <td>2022-05-18 11:26:31</td>\n",
       "      <td>Gracias @victorianoI y equipo por el análisis ...</td>\n",
       "      <td>0</td>\n",
       "      <td>0</td>\n",
       "      <td>0</td>\n",
       "    </tr>\n",
       "    <tr>\n",
       "      <th>3</th>\n",
       "      <td>2</td>\n",
       "      <td>2022-05-18 08:31:13</td>\n",
       "      <td>¿Cómo combatir el paro juvenil🥵? #tipdeldia En...</td>\n",
       "      <td>8</td>\n",
       "      <td>4</td>\n",
       "      <td>1</td>\n",
       "    </tr>\n",
       "    <tr>\n",
       "      <th>4</th>\n",
       "      <td>1</td>\n",
       "      <td>2022-05-17 14:53:47</td>\n",
       "      <td>¿Con ganas de probar si un empleo tecnológico ...</td>\n",
       "      <td>2</td>\n",
       "      <td>2</td>\n",
       "      <td>0</td>\n",
       "    </tr>\n",
       "    <tr>\n",
       "      <th>...</th>\n",
       "      <td>...</td>\n",
       "      <td>...</td>\n",
       "      <td>...</td>\n",
       "      <td>...</td>\n",
       "      <td>...</td>\n",
       "      <td>...</td>\n",
       "    </tr>\n",
       "    <tr>\n",
       "      <th>138</th>\n",
       "      <td>1</td>\n",
       "      <td>2023-05-16 11:15:34</td>\n",
       "      <td>Así es el #bootcamp de #UXUIProductDesign que ...</td>\n",
       "      <td>3</td>\n",
       "      <td>1</td>\n",
       "      <td>0</td>\n",
       "    </tr>\n",
       "    <tr>\n",
       "      <th>139</th>\n",
       "      <td>1</td>\n",
       "      <td>2023-05-17 11:06:23</td>\n",
       "      <td>Nos colamos en el campus de #Bilbao para descu...</td>\n",
       "      <td>2</td>\n",
       "      <td>1</td>\n",
       "      <td>0</td>\n",
       "    </tr>\n",
       "    <tr>\n",
       "      <th>140</th>\n",
       "      <td>34</td>\n",
       "      <td>2023-05-17 13:21:52</td>\n",
       "      <td>#MLMonitoring and #Observability, mar, 23 may ...</td>\n",
       "      <td>3</td>\n",
       "      <td>1</td>\n",
       "      <td>0</td>\n",
       "    </tr>\n",
       "    <tr>\n",
       "      <th>141</th>\n",
       "      <td>1</td>\n",
       "      <td>2023-05-18 10:00:23</td>\n",
       "      <td>¿Qué hacían nuestros alumni antes del #bootcam...</td>\n",
       "      <td>0</td>\n",
       "      <td>0</td>\n",
       "      <td>0</td>\n",
       "    </tr>\n",
       "    <tr>\n",
       "      <th>142</th>\n",
       "      <td>95</td>\n",
       "      <td>2023-05-19 11:01:18</td>\n",
       "      <td>Ayer visitamos a los alumnos de @TheBridge_Tec...</td>\n",
       "      <td>3</td>\n",
       "      <td>1</td>\n",
       "      <td>0</td>\n",
       "    </tr>\n",
       "  </tbody>\n",
       "</table>\n",
       "<p>277 rows × 6 columns</p>\n",
       "</div>"
      ],
      "text/plain": [
       "     user_id                Date  \\\n",
       "0          1 2022-05-19 15:39:16   \n",
       "1          1 2022-05-18 15:23:22   \n",
       "2          1 2022-05-18 11:26:31   \n",
       "3          2 2022-05-18 08:31:13   \n",
       "4          1 2022-05-17 14:53:47   \n",
       "..       ...                 ...   \n",
       "138        1 2023-05-16 11:15:34   \n",
       "139        1 2023-05-17 11:06:23   \n",
       "140       34 2023-05-17 13:21:52   \n",
       "141        1 2023-05-18 10:00:23   \n",
       "142       95 2023-05-19 11:01:18   \n",
       "\n",
       "                                                 Tweet  Likes  Retweets  \\\n",
       "0    ¡Qué poco queda para el próximo 🔥Burn Monday🔥!...      0         2   \n",
       "1    Esta es la historia de Isis🤗 que decidió hacer...      0         0   \n",
       "2    Gracias @victorianoI y equipo por el análisis ...      0         0   \n",
       "3    ¿Cómo combatir el paro juvenil🥵? #tipdeldia En...      8         4   \n",
       "4    ¿Con ganas de probar si un empleo tecnológico ...      2         2   \n",
       "..                                                 ...    ...       ...   \n",
       "138  Así es el #bootcamp de #UXUIProductDesign que ...      3         1   \n",
       "139  Nos colamos en el campus de #Bilbao para descu...      2         1   \n",
       "140  #MLMonitoring and #Observability, mar, 23 may ...      3         1   \n",
       "141  ¿Qué hacían nuestros alumni antes del #bootcam...      0         0   \n",
       "142  Ayer visitamos a los alumnos de @TheBridge_Tec...      3         1   \n",
       "\n",
       "     Replies  \n",
       "0          0  \n",
       "1          0  \n",
       "2          0  \n",
       "3          1  \n",
       "4          0  \n",
       "..       ...  \n",
       "138        0  \n",
       "139        0  \n",
       "140        0  \n",
       "141        0  \n",
       "142        0  \n",
       "\n",
       "[277 rows x 6 columns]"
      ]
     },
     "execution_count": 47,
     "metadata": {},
     "output_type": "execute_result"
    }
   ],
   "source": [
    "df_tweets"
   ]
  },
  {
   "cell_type": "markdown",
   "metadata": {},
   "source": [
    "---"
   ]
  },
  {
   "cell_type": "markdown",
   "metadata": {},
   "source": [
    "## ***2. Bases de Datos SQL***"
   ]
  },
  {
   "cell_type": "markdown",
   "metadata": {},
   "source": [
    "### 1. Conexión a SQLite"
   ]
  },
  {
   "cell_type": "code",
   "execution_count": 48,
   "metadata": {},
   "outputs": [],
   "source": [
    "# Conexión a SQLite\n",
    "conn = sqlite3.connect('twitter.db')"
   ]
  },
  {
   "cell_type": "markdown",
   "metadata": {},
   "source": [
    "### 2. Creación de Tablas"
   ]
  },
  {
   "cell_type": "code",
   "execution_count": 210,
   "metadata": {},
   "outputs": [],
   "source": [
    "# Creamos tabla 'usuarios'\n",
    "conn.execute('''\n",
    "CREATE TABLE IF NOT EXISTS usuarios (\n",
    "    user_id INTEGER PRIMARY KEY,\n",
    "    user_name TEXT\n",
    ")\n",
    "''')\n",
    "\n",
    "# Creamos la tabla 'tweets'\n",
    "conn.execute('''\n",
    "CREATE TABLE IF NOT EXISTS tweets (\n",
    "    tweet_id INTEGER PRIMARY KEY AUTOINCREMENT,\n",
    "    user_id INTEGER,\n",
    "    date DATETIME,\n",
    "    likes INTEGER,\n",
    "    retweets INTEGER,\n",
    "    replies INTEGER,\n",
    "    FOREIGN KEY (user_id) REFERENCES usuarios (user_id)\n",
    ")\n",
    "''')\n",
    "\n",
    "conn.commit()"
   ]
  },
  {
   "cell_type": "markdown",
   "metadata": {},
   "source": [
    "### 3. Insercción de Datos:"
   ]
  },
  {
   "cell_type": "code",
   "execution_count": 211,
   "metadata": {},
   "outputs": [
    {
     "data": {
      "text/plain": [
       "277"
      ]
     },
     "execution_count": 211,
     "metadata": {},
     "output_type": "execute_result"
    }
   ],
   "source": [
    "# Insertamos datos en la tabla 'usurarios'\n",
    "df_usuarios.to_sql('usuarios', con=conn, if_exists='replace', index=False)\n",
    "\n",
    "# Insertamos datos en la tabla 'tweets'\n",
    "df_tweets.to_sql('tweets', con=conn, if_exists='replace', index=False)"
   ]
  },
  {
   "cell_type": "markdown",
   "metadata": {},
   "source": [
    "---"
   ]
  },
  {
   "cell_type": "markdown",
   "metadata": {},
   "source": [
    "## ***3. Análisis de Datos***"
   ]
  },
  {
   "cell_type": "markdown",
   "metadata": {},
   "source": [
    "### 4. Queries"
   ]
  },
  {
   "cell_type": "code",
   "execution_count": 49,
   "metadata": {},
   "outputs": [
    {
     "name": "stdout",
     "output_type": "stream",
     "text": [
      "[(1, 'TheBridge_Tech'), (2, 'Bcasapp'), (3, 'PdelaPublicidad'), (4, 'arey'), (5, 'Alberto_Blanco')]\n"
     ]
    }
   ],
   "source": [
    "# Vamos hacer una consulta de prueba\n",
    "cursor = conn.cursor()\n",
    "cursor.execute(\"\"\"\n",
    "               SELECT * FROM usuarios\n",
    "               LIMIT 5\n",
    "               \"\"\")\n",
    "print(cursor.fetchall())"
   ]
  },
  {
   "cell_type": "markdown",
   "metadata": {},
   "source": [
    "##### **a. ¿Cuál es el tweet con mayor repercusión social?**"
   ]
  },
  {
   "cell_type": "code",
   "execution_count": 50,
   "metadata": {},
   "outputs": [
    {
     "name": "stdout",
     "output_type": "stream",
     "text": [
      "(66, '2023-04-09 23:06:36', 'Para reactivarse!!!\\nTenemos Meetup este martes 11 de abril a las 19:00 en @TheBridge_Tech\\n\\n@dev7ba nos hablará sobre la mempool!!\\nCharla para todo el mundo, sepas o no sobre #Bitcoin \\n\\n@GaboHBeaumont @kilrau @libertariadora @olya_borderless\\nhttps://t.co/bHzpDduIRo\\n\\nSe agradece RT', 39, 25, 3, 67)\n"
     ]
    }
   ],
   "source": [
    "query = '''\n",
    "SELECT *, (Likes + Retweets + Replies) AS Repercusion\n",
    "FROM tweets\n",
    "ORDER BY Repercusion DESC\n",
    "LIMIT 1;\n",
    "'''\n",
    "resultado = conn.execute(query).fetchone()\n",
    "print(resultado)"
   ]
  },
  {
   "cell_type": "markdown",
   "metadata": {},
   "source": [
    "#### **b. ¿Cuál es el usuario que más menciona a la escuela?**"
   ]
  },
  {
   "cell_type": "code",
   "execution_count": 56,
   "metadata": {},
   "outputs": [
    {
     "name": "stdout",
     "output_type": "stream",
     "text": [
      "Usuario que más menciona a la escuela: 71\n"
     ]
    }
   ],
   "source": [
    "# Ejecutar la consulta SQL\n",
    "query = '''\n",
    "SELECT user_id, COUNT(*) AS NumMenciones\n",
    "FROM tweets\n",
    "WHERE Tweet LIKE '%TheBridge_Tech%'\n",
    "GROUP BY user_id\n",
    "ORDER BY NumMenciones DESC\n",
    "LIMIT 1;\n",
    "'''\n",
    "resultado = conn.execute(query).fetchone()\n",
    "print(f\"Usuario que más menciona a la escuela: {resultado[0]}\")\n"
   ]
  },
  {
   "cell_type": "code",
   "execution_count": 61,
   "metadata": {},
   "outputs": [
    {
     "name": "stdout",
     "output_type": "stream",
     "text": [
      "Usuario que más menciona a TheBridge_Tech: DatabeerSVQ con 17 menciones\n"
     ]
    }
   ],
   "source": [
    "query = '''\n",
    "SELECT usuarios.user, COUNT(tweets.tweet) AS NumMenciones\n",
    "FROM tweets\n",
    "JOIN usuarios ON tweets.user_id = usuarios.user_id\n",
    "WHERE tweets.Tweet LIKE '%TheBridge_Tech%'\n",
    "GROUP BY tweets.user_id\n",
    "ORDER BY NumMenciones DESC\n",
    "LIMIT 1;\n",
    "'''\n",
    "resultado = conn.execute(query).fetchone()\n",
    "print(f\"Usuario que más menciona a TheBridge_Tech: {resultado[0]} con {resultado[1]} menciones\")\n"
   ]
  },
  {
   "cell_type": "markdown",
   "metadata": {},
   "source": [
    "#### **d. ¿En qué mes se concentra el mayor número de tweets?**"
   ]
  },
  {
   "cell_type": "code",
   "execution_count": 62,
   "metadata": {},
   "outputs": [
    {
     "name": "stdout",
     "output_type": "stream",
     "text": [
      "El mes con mayor número de tweets es: 2023-03 con 73 tweets\n"
     ]
    }
   ],
   "source": [
    "query = '''\n",
    "SELECT strftime('%Y-%m', date) AS Mes, COUNT(*) AS NumeroDeTweets\n",
    "FROM tweets\n",
    "GROUP BY Mes\n",
    "ORDER BY NumeroDeTweets DESC\n",
    "LIMIT 1;\n",
    "'''\n",
    "mes_con_mas_tweets = conn.execute(query).fetchone()\n",
    "print(f\"El mes con mayor número de tweets es: {mes_con_mas_tweets[0]} con {mes_con_mas_tweets[1]} tweets\")\n"
   ]
  },
  {
   "cell_type": "code",
   "execution_count": 63,
   "metadata": {},
   "outputs": [
    {
     "name": "stdout",
     "output_type": "stream",
     "text": [
      "Mes: 2022-01, Número de Tweets: 17\n",
      "Mes: 2022-02, Número de Tweets: 23\n",
      "Mes: 2022-03, Número de Tweets: 27\n",
      "Mes: 2022-04, Número de Tweets: 49\n",
      "Mes: 2022-05, Número de Tweets: 18\n",
      "Mes: 2023-02, Número de Tweets: 13\n",
      "Mes: 2023-03, Número de Tweets: 73\n",
      "Mes: 2023-04, Número de Tweets: 38\n",
      "Mes: 2023-05, Número de Tweets: 19\n"
     ]
    }
   ],
   "source": [
    "query = '''\n",
    "SELECT strftime('%Y-%m', date) AS Mes, COUNT(*) AS NumeroDeTweets\n",
    "FROM tweets\n",
    "WHERE strftime('%Y', date) IN ('2022', '2023')\n",
    "GROUP BY Mes\n",
    "ORDER BY Mes;\n",
    "'''\n",
    "resultados = conn.execute(query).fetchall()\n",
    "\n",
    "# Imprimir los resultados\n",
    "for mes, num_tweets in resultados:\n",
    "    print(f\"Mes: {mes}, Número de Tweets: {num_tweets}\")\n"
   ]
  },
  {
   "cell_type": "code",
   "execution_count": 64,
   "metadata": {},
   "outputs": [
    {
     "name": "stdout",
     "output_type": "stream",
     "text": [
      "El mes con mayor número de tweets (considerando 2022 y 2023) es: 03 con 100 tweets\n"
     ]
    }
   ],
   "source": [
    "# Ejecutar la consulta\n",
    "query = '''\n",
    "SELECT strftime('%m', date) AS Mes, COUNT(*) AS NumeroDeTweets\n",
    "FROM tweets\n",
    "WHERE strftime('%Y', date) IN ('2022', '2023')\n",
    "GROUP BY Mes\n",
    "ORDER BY NumeroDeTweets DESC\n",
    "LIMIT 1;\n",
    "'''\n",
    "mes_con_mas_tweets = conn.execute(query).fetchone()\n",
    "print(f\"El mes con mayor número de tweets (considerando 2022 y 2023) es: {mes_con_mas_tweets[0]} con {mes_con_mas_tweets[1]} tweets\")\n"
   ]
  },
  {
   "cell_type": "markdown",
   "metadata": {},
   "source": [
    "##### **d. ¿Qué palabras son más frecuentes?**"
   ]
  },
  {
   "cell_type": "code",
   "execution_count": 219,
   "metadata": {},
   "outputs": [
    {
     "name": "stdout",
     "output_type": "stream",
     "text": [
      "[('t', 302), ('co', 300), ('https', 299), ('thebridge_tech', 194), ('bootcamp', 36), ('gracias', 36), ('digital', 33), ('entradas', 32), ('sngular', 27), ('madrid', 26)]\n"
     ]
    }
   ],
   "source": [
    "# Cargar el modelo de spaCy\n",
    "nlp = spacy.load('es_core_news_sm')\n",
    "\n",
    "# Texto de ejemplo (reemplazar con tus tweets)\n",
    "texto = \" \".join(df_tweets['Tweet'])\n",
    "\n",
    "# Limpiar el texto\n",
    "texto_limpio = re.sub(r'\\W+', ' ', texto.lower())\n",
    "\n",
    "# Procesar el texto con spaCy\n",
    "doc = nlp(texto_limpio)\n",
    "\n",
    "# Filtrar stopwords y puntuación, y contar palabras\n",
    "palabras = [token.text for token in doc if not token.is_stop and not token.is_punct]\n",
    "frecuencias = Counter(palabras)\n",
    "print(frecuencias.most_common(10))\n"
   ]
  },
  {
   "cell_type": "markdown",
   "metadata": {},
   "source": [
    "Vamos a limpiar un poco más el texto."
   ]
  },
  {
   "cell_type": "code",
   "execution_count": 65,
   "metadata": {},
   "outputs": [
    {
     "name": "stdout",
     "output_type": "stream",
     "text": [
      "[('thebridge_tech', 194), ('bootcamp', 36), ('gracias', 36), ('digital', 33), ('entradas', 32), ('sngular', 27), ('madrid', 26), ('19', 26), ('sevilla', 25), ('datascience', 23)]\n"
     ]
    }
   ],
   "source": [
    "# Cargar el modelo de spaCy\n",
    "nlp = spacy.load('es_core_news_sm')\n",
    "\n",
    "# Texto de ejemplo (reemplazar con tus tweets)\n",
    "texto = \" \".join(df_tweets['Tweet'])\n",
    "\n",
    "# Limpiar el texto (elimina URLs y caracteres no alfanuméricos)\n",
    "texto_limpio = re.sub(r'http\\S+', '', texto)\n",
    "texto_limpio = re.sub(r'\\W+', ' ', texto_limpio.lower())\n",
    "\n",
    "# Procesar el texto con spaCy\n",
    "doc = nlp(texto_limpio)\n",
    "\n",
    "# Palabras no deseadas adicionales\n",
    "palabras_no_deseadas = {'t', 'co'}\n",
    "\n",
    "palabras_filtradas = []\n",
    "\n",
    "# Recorremos cada token en el documento procesado\n",
    "for token in doc:\n",
    "    # Verificamos se el token es una stopword, puntución o palabra no deseada\n",
    "    if not token.is_stop and not token.is_punct and token.text not in palabras_no_deseadas:\n",
    "        # Agregamos el texto del token a la lista de palabras filtradas\n",
    "        palabras_filtradas.append(token.text)\n",
    "\n",
    "# Contamos la frecuancia de cada palabra en la lista filtrada\n",
    "frecuencias = Counter(palabras_filtradas)\n",
    "\n",
    "# Imprimimos las 10 palabras más comunes\n",
    "print(frecuencias.most_common(10))"
   ]
  },
  {
   "cell_type": "code",
   "execution_count": 63,
   "metadata": {},
   "outputs": [
    {
     "name": "stdout",
     "output_type": "stream",
     "text": [
      "['thebridge_tech', 'bootcamp', 'gracias', 'digital', 'entradas', 'sngular', 'madrid', '19', 'sevilla', 'datascience']\n",
      "[194, 36, 36, 33, 32, 27, 26, 26, 25, 23]\n"
     ]
    }
   ],
   "source": [
    "# Suponiendo que 'frecuencias' es tu objeto Counter\n",
    "palabras_mas_comunes = frecuencias.most_common(10)\n",
    "\n",
    "# Separar palabras y sus frecuencias\n",
    "palabras = [item[0] for item in palabras_mas_comunes]  # Nombres de las palabras\n",
    "conteos = [item[1] for item in palabras_mas_comunes]\n",
    "\n",
    "print(palabras)\n",
    "print(conteos)"
   ]
  },
  {
   "cell_type": "code",
   "execution_count": 64,
   "metadata": {},
   "outputs": [
    {
     "data": {
      "image/png": "[encoded data removed]",
      "text/plain": [
       "<Figure size 1000x600 with 1 Axes>"
      ]
     },
     "metadata": {},
     "output_type": "display_data"
    }
   ],
   "source": [
    "# Configurar las dimensiones y el estilo del gráfico\n",
    "plt.figure(figsize=(10, 6))\n",
    "plt.bar(palabras, conteos)\n",
    "\n",
    "# Añadir títulos y etiquetas\n",
    "plt.title('Top 10 Palabras Más Frecuentes en Tweets')\n",
    "plt.xlabel('Palabras')\n",
    "plt.ylabel('Frecuencia')\n",
    "\n",
    "# Rotar las etiquetas del eje X en 45 grados\n",
    "plt.xticks(rotation=45)\n",
    "\n",
    "# Mostrar el gráfico\n",
    "plt.show()"
   ]
  },
  {
   "cell_type": "code",
   "execution_count": 235,
   "metadata": {},
   "outputs": [
    {
     "data": {
      "image/png": "[encoded data removed]",
      "text/plain": [
       "<Figure size 1000x600 with 1 Axes>"
      ]
     },
     "metadata": {},
     "output_type": "display_data"
    }
   ],
   "source": [
    "# Creamos DataFrame para Seaborn\n",
    "data = pd.DataFrame({'Palabras': palabras, 'Frecuencia': conteos})\n",
    "\n",
    "# Creamos el gráfico de barras\n",
    "plt.figure(figsize=(10, 6))\n",
    "bar_plot = sns.barplot(x='Frecuencia', y='Palabras', data=data)\n",
    "\n",
    "# Añadimos títulos y etiquetas\n",
    "plt.title('Top 10 Palabras Más Frecuentes en Tweets')\n",
    "plt.xlabel('Palabras')\n",
    "plt.ylabel('Frecuencia')\n",
    "\n",
    "# Añadimos el conteo en las barras\n",
    "for p in bar_plot.patches:\n",
    "    width = p.get_width()\n",
    "    plt.text(width + 1,\n",
    "             p.get_y() + p.get_height() / 2,\n",
    "             '{:1.0f}'.format(width),\n",
    "             ha = 'left',\n",
    "             va = 'center')\n",
    "            \n",
    "plt.show()"
   ]
  },
  {
   "cell_type": "markdown",
   "metadata": {},
   "source": [
    "##### **e. ¿Qué tipo de correlación matemática encuentras entre las métricas públicas?**"
   ]
  },
  {
   "cell_type": "code",
   "execution_count": 48,
   "metadata": {},
   "outputs": [
    {
     "name": "stdout",
     "output_type": "stream",
     "text": [
      "             Likes  Retweets   Replies\n",
      "Likes     1.000000  0.759179  0.430360\n",
      "Retweets  0.759179  1.000000  0.282997\n",
      "Replies   0.430360  0.282997  1.000000\n"
     ]
    }
   ],
   "source": [
    "# Matriz de correlación por consola\n",
    "matriz_correlacion = df_tweets[['Likes', 'Retweets', 'Replies']].corr()\n",
    "print(matriz_correlacion)"
   ]
  },
  {
   "cell_type": "code",
   "execution_count": 50,
   "metadata": {},
   "outputs": [
    {
     "data": {
      "image/png": "[encoded data removed]",
      "text/plain": [
       "<Figure size 800x600 with 2 Axes>"
      ]
     },
     "metadata": {},
     "output_type": "display_data"
    }
   ],
   "source": [
    "# Creamos un mapa de calor para la matriz de corrlación\n",
    "plt.figure(figsize=(8, 6))\n",
    "sns.heatmap(matriz_correlacion, annot=True, cmap='coolwarm', fmt='.2f')\n",
    "\n",
    "# Añadimos título y ajustes\n",
    "plt.title(\"Matriz de Correlación entre Métricas Públicas\")\n",
    "plt.show()\n"
   ]
  },
  {
   "cell_type": "markdown",
   "metadata": {},
   "source": [
    "Lo más resaltablde de nuestra matriz de relación es que Likes y Retweets tienen una correlación considerable. "
   ]
  },
  {
   "cell_type": "code",
   "execution_count": 57,
   "metadata": {},
   "outputs": [
    {
     "data": {
      "image/png": "[encoded data removed]",
      "text/plain": [
       "<Figure size 750x750 with 12 Axes>"
      ]
     },
     "metadata": {},
     "output_type": "display_data"
    }
   ],
   "source": [
    "# Vamos a crear un pairplot\n",
    "sns.pairplot(df_tweets[['Likes', 'Retweets', 'Replies']])\n",
    "\n",
    "# Añadimos un título al gráfico\n",
    "plt.suptitle('Pairplot de Métricas Públicas', y=1.02)\n",
    "\n",
    "# Mostrar el gráfico\n",
    "plt.show()"
   ]
  },
  {
   "cell_type": "code",
   "execution_count": 66,
   "metadata": {},
   "outputs": [
    {
     "name": "stdout",
     "output_type": "stream",
     "text": [
      "<class 'pandas.core.frame.DataFrame'>\n",
      "Index: 277 entries, 0 to 142\n",
      "Data columns (total 6 columns):\n",
      " #   Column    Non-Null Count  Dtype         \n",
      "---  ------    --------------  -----         \n",
      " 0   user_id   277 non-null    int64         \n",
      " 1   Date      277 non-null    datetime64[ns]\n",
      " 2   Tweet     277 non-null    object        \n",
      " 3   Likes     277 non-null    int64         \n",
      " 4   Retweets  277 non-null    int64         \n",
      " 5   Replies   277 non-null    int64         \n",
      "dtypes: datetime64[ns](1), int64(4), object(1)\n",
      "memory usage: 15.1+ KB\n"
     ]
    }
   ],
   "source": [
    "df_tweets.info()"
   ]
  },
  {
   "cell_type": "code",
   "execution_count": 67,
   "metadata": {},
   "outputs": [],
   "source": [
    "# Vamos a crear una linea de tiempo\n",
    "# ---------------------------------\n",
    "# Agrupamos por la unidad de tiempo deseada y contramos tweets\n",
    "# Cambiamos 'D' a 'M' para mes, 'Y' para año, etc.\n",
    "tweets_por_tiempo = df_tweets.resample('D', on='Date').size()"
   ]
  },
  {
   "cell_type": "code",
   "execution_count": 68,
   "metadata": {},
   "outputs": [
    {
     "data": {
      "image/png": "[encoded data removed]",
      "text/plain": [
       "<Figure size 1200x600 with 1 Axes>"
      ]
     },
     "metadata": {},
     "output_type": "display_data"
    }
   ],
   "source": [
    "# Creamos gráfico de linea\n",
    "plt.figure(figsize=(12, 6))\n",
    "plt.plot(tweets_por_tiempo.index, tweets_por_tiempo.values)\n",
    "\n",
    "# Añadimos título y etiquetas\n",
    "plt.title('Frecuencia de Tweets Publicados a lo Largo del Tiempo')\n",
    "plt.xlabel('Fecha')\n",
    "plt.ylabel('Número de Tweets')\n",
    "\n",
    "plt.show()"
   ]
  },
  {
   "cell_type": "code",
   "execution_count": 75,
   "metadata": {},
   "outputs": [],
   "source": [
    "# Filtramos por rango de fechas\n",
    "df_2022 = df_tweets[(df_tweets['Date'] >= '2022-01-01') & (df_tweets['Date'] <= '2022-06-30')]\n",
    "df_2023 = df_tweets[(df_tweets['Date'] >= '2023-01-01') & (df_tweets['Date'] <= '2023-06-30')]\n",
    "\n",
    "# Agrupamos y contamos tweets por día\n",
    "tweets_por_dia_2022 = df_2022.resample('D', on='Date').size()\n",
    "tweets_por_dia_2023 = df_2023.resample('D', on='Date').size()"
   ]
  },
  {
   "cell_type": "code",
   "execution_count": 76,
   "metadata": {},
   "outputs": [
    {
     "data": {
      "image/png": "[encoded data removed]",
      "text/plain": [
       "<Figure size 1200x1000 with 2 Axes>"
      ]
     },
     "metadata": {},
     "output_type": "display_data"
    }
   ],
   "source": [
    "# Configuramos subplots\n",
    "fig, axs = plt.subplots(2, 1, figsize=(12, 10))\n",
    "\n",
    "# Gráfico para 2022\n",
    "axs[0].plot(tweets_por_dia_2022.index, tweets_por_dia_2022.values)\n",
    "axs[0].set_title('Frecuencia de Tweets: Enereo a Junio de 2022')\n",
    "axs[0].set_xlabel('Fecha')\n",
    "axs[0].set_ylabel('Número de Tweets')\n",
    "\n",
    "# Gráfico para 2023\n",
    "axs[1].plot(tweets_por_dia_2023.index, tweets_por_dia_2023.values)\n",
    "axs[1].set_title('Frecuencia de Tweets: Marzo a Junio de 2023')\n",
    "axs[1].set_xlabel('Fecha')\n",
    "axs[1].set_ylabel('Número de Tweets')\n",
    "\n",
    "# Mostramos gráficos\n",
    "plt.tight_layout()\n",
    "plt.show()"
   ]
  },
  {
   "cell_type": "markdown",
   "metadata": {},
   "source": [
    "---"
   ]
  },
  {
   "cell_type": "markdown",
   "metadata": {},
   "source": [
    "## ***4. Análisis de Sentimiento***"
   ]
  },
  {
   "cell_type": "code",
   "execution_count": 83,
   "metadata": {},
   "outputs": [
    {
     "name": "stdout",
     "output_type": "stream",
     "text": [
      "Modelo cargado con joblib.\n"
     ]
    }
   ],
   "source": [
    "import joblib\n",
    "\n",
    "try:\n",
    "    modelo = joblib.load('./model/sentiment_model')\n",
    "    print(\"Modelo cargado con joblib.\")\n",
    "except Exception as e:\n",
    "    print(\"Error al cargar el modelo con joblib:\", e)\n"
   ]
  },
  {
   "cell_type": "code",
   "execution_count": 80,
   "metadata": {},
   "outputs": [
    {
     "name": "stderr",
     "output_type": "stream",
     "text": [
      "/Users/egoitzaulestiapadilla/opt/anaconda3/lib/python3.9/site-packages/sklearn/base.py:348: InconsistentVersionWarning: Trying to unpickle estimator CountVectorizer from version 1.0.2 when using version 1.3.2. This might lead to breaking code or invalid results. Use at your own risk. For more info please refer to:\n",
      "https://scikit-learn.org/stable/model_persistence.html#security-maintainability-limitations\n",
      "  warnings.warn(\n",
      "/Users/egoitzaulestiapadilla/opt/anaconda3/lib/python3.9/site-packages/sklearn/base.py:348: InconsistentVersionWarning: Trying to unpickle estimator LogisticRegression from version 1.0.2 when using version 1.3.2. This might lead to breaking code or invalid results. Use at your own risk. For more info please refer to:\n",
      "https://scikit-learn.org/stable/model_persistence.html#security-maintainability-limitations\n",
      "  warnings.warn(\n",
      "/Users/egoitzaulestiapadilla/opt/anaconda3/lib/python3.9/site-packages/sklearn/base.py:348: InconsistentVersionWarning: Trying to unpickle estimator Pipeline from version 1.0.2 when using version 1.3.2. This might lead to breaking code or invalid results. Use at your own risk. For more info please refer to:\n",
      "https://scikit-learn.org/stable/model_persistence.html#security-maintainability-limitations\n",
      "  warnings.warn(\n"
     ]
    }
   ],
   "source": [
    "import pickle\n",
    "\n",
    "with open('./model/sentiment_model', 'rb') as file:\n",
    "    modelo = pickle.load(file)"
   ]
  },
  {
   "cell_type": "markdown",
   "metadata": {},
   "source": [
    "##### **a. ¿Cuáles son las predicciones? Intrepreta los resultados**"
   ]
  },
  {
   "cell_type": "code",
   "execution_count": 85,
   "metadata": {},
   "outputs": [
    {
     "data": {
      "text/plain": [
       "array([1, 1, 1, 0, 1, 0, 1, 0, 0, 0, 0, 1, 1, 1, 0, 1, 1, 1, 1, 1, 1, 0,\n",
       "       0, 0, 0, 1, 0, 1, 0, 0, 1, 1, 1, 0, 0, 0, 0, 0, 0, 1, 1, 0, 1, 0,\n",
       "       0, 0, 0, 1, 0, 0, 0, 0, 0, 0, 1, 0, 0, 0, 1, 0, 0, 0, 0, 0, 0, 0,\n",
       "       1, 1, 1, 0, 1, 0, 0, 1, 1, 0, 1, 1, 0, 0, 0, 0, 0, 1, 1, 1, 0, 1,\n",
       "       1, 0, 0, 1, 1, 0, 1, 1, 0, 1, 1, 1, 1, 0, 0, 1, 0, 1, 0, 0, 1, 1,\n",
       "       0, 0, 0, 0, 1, 0, 0, 0, 0, 0, 0, 1, 0, 0, 0, 0, 1, 1, 1, 1, 1, 0,\n",
       "       1, 1, 1, 0, 0, 0, 1, 1, 0, 1, 1, 0, 1, 1, 1, 0, 1, 0, 0, 0, 0, 0,\n",
       "       0, 1, 1, 0, 0, 0, 1, 0, 0, 0, 1, 0, 1, 1, 1, 0, 0, 0, 0, 0, 0, 1,\n",
       "       1, 1, 0, 1, 1, 1, 1, 0, 1, 0, 1, 0, 0, 1, 0, 0, 1, 1, 0, 0, 0, 0,\n",
       "       0, 0, 1, 0, 1, 1, 1, 1, 1, 1, 1, 1, 0, 1, 1, 1, 1, 0, 1, 0, 1, 1,\n",
       "       1, 1, 0, 0, 1, 1, 0, 0, 0, 0, 0, 0, 1, 0, 0, 0, 1, 0, 0, 0, 1, 1,\n",
       "       0, 0, 0, 0, 1, 1, 0, 1, 0, 0, 1, 1, 0, 0, 0, 0, 0, 0, 0, 1, 0, 0,\n",
       "       1, 0, 0, 0, 1, 0, 1, 0, 0, 0, 1, 0, 1])"
      ]
     },
     "execution_count": 85,
     "metadata": {},
     "output_type": "execute_result"
    }
   ],
   "source": [
    "predicciones = modelo.predict(df_tweets['Tweet'])\n",
    "predicciones"
   ]
  },
  {
   "cell_type": "code",
   "execution_count": 65,
   "metadata": {},
   "outputs": [
    {
     "name": "stdout",
     "output_type": "stream",
     "text": [
      "Tweets Negativos (¿?)\n",
      "—\n",
      "¿Cómo combatir el paro juvenil🥵? #tipdeldia En un país con una tasa de paro récord, hay que elegir bien dónde y qué estudiar.\n",
      "\n",
      "Si os queréis especializar en el sector digital, os animamos a hacerlo con @TheBridge_Tech, que cuenta con un 92% de empleabilidad... ¡Y CON BECA 👇! https://t.co/2OBZSnVk7r\n",
      "—\n",
      "Los perfiles tecnológicos más demandados en el futuro @TheBridge_Tech https://t.co/j93jBWSLij\n",
      "—\n",
      "Sin desmerecer el espectáculo del 28 de mayo en Paris, el 26 a las 18:30 en Madrid, @arey presenta su #libroIC en @TheBridge_Tech Entradas aquí https://t.co/4MM6HyxTrf\n",
      "—\n",
      "Next week our CEO @victorianoi will be at @Thebridge_tech with @ikerarceseco to discuss the education sector 🎓 from a data-driven perspective. Join us online or at Paseo de Recoletos, 15, Madrid, to debate the challenges and opportunities the sector faces🚀 https://t.co/Vfbji4VN4b\n"
     ]
    }
   ],
   "source": [
    "print(\"Tweets Negativos (¿?)\")\n",
    "print('—')\n",
    "print(df_tweets['Tweet'].iloc[3])\n",
    "print('—')\n",
    "print(df_tweets['Tweet'].iloc[5])\n",
    "print('—')\n",
    "print(df_tweets['Tweet'].iloc[7])\n",
    "print('—')\n",
    "print(df_tweets['Tweet'].iloc[8])"
   ]
  },
  {
   "cell_type": "code",
   "execution_count": 98,
   "metadata": {},
   "outputs": [],
   "source": [
    "df_tweets['Sentimiento'] = predicciones"
   ]
  },
  {
   "cell_type": "code",
   "execution_count": 99,
   "metadata": {},
   "outputs": [
    {
     "name": "stdout",
     "output_type": "stream",
     "text": [
      "Sentimiento\n",
      "0    155\n",
      "1    122\n",
      "Name: count, dtype: int64\n"
     ]
    }
   ],
   "source": [
    "distribucion_sentimientos = df_tweets['Sentimiento'].value_counts()\n",
    "print(distribucion_sentimientos)"
   ]
  },
  {
   "cell_type": "code",
   "execution_count": 100,
   "metadata": {},
   "outputs": [],
   "source": [
    "df_distribucion = pd.DataFrame({'Sentimiento': distribucion_sentimientos.index,\n",
    "                                'Número de Tweets': distribucion_sentimientos.values})"
   ]
  },
  {
   "cell_type": "code",
   "execution_count": 101,
   "metadata": {},
   "outputs": [
    {
     "data": {
      "image/png": "[encoded data removed]",
      "text/plain": [
       "<Figure size 800x600 with 1 Axes>"
      ]
     },
     "metadata": {},
     "output_type": "display_data"
    }
   ],
   "source": [
    "# Configuramos el estilo\n",
    "sns.set(style=\"whitegrid\")\n",
    "\n",
    "# Creamos el gráfico de barras\n",
    "plt.figure(figsize=(8, 6))\n",
    "sns.barplot(x='Sentimiento', y='Número de Tweets', data=df_distribucion)\n",
    "\n",
    "# Añadimos títulos y etiquetas\n",
    "plt.title('Distribuciçon de Sentimientos en Tweets')\n",
    "plt.xlabel('Sentimiento')\n",
    "plt.ylabel('Número de Tweets')\n",
    "\n",
    "plt.show()"
   ]
  },
  {
   "cell_type": "code",
   "execution_count": 107,
   "metadata": {},
   "outputs": [
    {
     "data": {
      "image/png": "[encoded data removed]",
      "text/plain": [
       "<Figure size 800x600 with 1 Axes>"
      ]
     },
     "metadata": {},
     "output_type": "display_data"
    }
   ],
   "source": [
    "# Crear el gráfico de pastel\n",
    "plt.figure(figsize=(8, 6))\n",
    "plt.pie(df_distribucion['Número de Tweets'], labels=df_distribucion['Sentimiento'], autopct='%1.1f%%', startangle=140)\n",
    "\n",
    "# Añadir título\n",
    "plt.title('Distribución de Sentimientos en Tweets')\n",
    "\n",
    "# Mostrar el gráfico\n",
    "plt.show()"
   ]
  },
  {
   "cell_type": "markdown",
   "metadata": {},
   "source": [
    "##### **b. ¿Cuáles son las predicciones? Intrepreta los resultados**"
   ]
  },
  {
   "cell_type": "code",
   "execution_count": 104,
   "metadata": {},
   "outputs": [
    {
     "ename": "AttributeError",
     "evalue": "'Pipeline' object has no attribute 'feature_importances_'",
     "output_type": "error",
     "traceback": [
      "\u001b[0;31m---------------------------------------------------------------------------\u001b[0m",
      "\u001b[0;31mAttributeError\u001b[0m                            Traceback (most recent call last)",
      "\u001b[0;32m/var/folders/3_/bsh490990pv6w7gjtmjv6qy80000gn/T/ipykernel_23919/1819633306.py\u001b[0m in \u001b[0;36m<module>\u001b[0;34m\u001b[0m\n\u001b[0;32m----> 1\u001b[0;31m \u001b[0mimportancias\u001b[0m \u001b[0;34m=\u001b[0m \u001b[0mmodelo\u001b[0m\u001b[0;34m.\u001b[0m\u001b[0mfeature_importances_\u001b[0m\u001b[0;34m\u001b[0m\u001b[0;34m\u001b[0m\u001b[0m\n\u001b[0m",
      "\u001b[0;31mAttributeError\u001b[0m: 'Pipeline' object has no attribute 'feature_importances_'"
     ]
    }
   ],
   "source": [
    "importancias = modelo.feature_importances_"
   ]
  },
  {
   "cell_type": "code",
   "execution_count": 113,
   "metadata": {},
   "outputs": [
    {
     "data": {
      "image/png": "[encoded data removed]",
      "text/plain": [
       "<Figure size 1000x800 with 2 Axes>"
      ]
     },
     "metadata": {},
     "output_type": "display_data"
    }
   ],
   "source": [
    "import pandas as pd\n",
    "import matplotlib.pyplot as plt\n",
    "from collections import defaultdict\n",
    "%matplotlib inline\n",
    "\n",
    "# Suponiendo que tienes una función generate_ngrams(sent)\n",
    "# y df_tweets ya tiene una columna 'Sentimiento'\n",
    "\n",
    "# Contar n-gramas para una categoría de sentimiento\n",
    "def contar_ngramas(dataframe, sentimiento):\n",
    "    freq_dict = defaultdict(int)\n",
    "    for sent in dataframe[dataframe['Sentimiento'] == sentimiento]['Tweet']:\n",
    "        for word in generate_ngrams(sent):\n",
    "            freq_dict[word] += 1\n",
    "    return pd.DataFrame(sorted(freq_dict.items(), key=lambda x: x[1])[::-1], columns=[\"word\", \"wordcount\"])\n",
    "\n",
    "# Ejemplo para sentimientos positivos y negativos\n",
    "df_positivos = contar_ngramas(df_tweets, 'positivo')\n",
    "df_negativos = contar_ngramas(df_tweets, 'negativo')\n",
    "\n",
    "# Crear gráficos de barras horizontales\n",
    "plt.figure(figsize=(10, 8))\n",
    "\n",
    "plt.subplot(1, 2, 1)\n",
    "plt.barh(df_positivos['word'].head(20), df_positivos['wordcount'].head(20), color='blue')\n",
    "plt.title('Palabras Frecuentes en Comentarios Positivos')\n",
    "\n",
    "plt.subplot(1, 2, 2)\n",
    "plt.barh(df_negativos['word'].head(20), df_negativos['wordcount'].head(20), color='red')\n",
    "plt.title('Palabras Frecuentes en Comentarios Negativos')\n",
    "\n",
    "plt.tight_layout()\n",
    "plt.show()"
   ]
  },
  {
   "cell_type": "code",
   "execution_count": 114,
   "metadata": {},
   "outputs": [
    {
     "name": "stdout",
     "output_type": "stream",
     "text": [
      "   user_id                Date  \\\n",
      "0        1 2022-05-19 15:39:16   \n",
      "1        1 2022-05-18 15:23:22   \n",
      "2        1 2022-05-18 11:26:31   \n",
      "3        2 2022-05-18 08:31:13   \n",
      "4        1 2022-05-17 14:53:47   \n",
      "\n",
      "                                               Tweet  Likes  Retweets  \\\n",
      "0  ¡Qué poco queda para el próximo 🔥Burn Monday🔥!...      0         2   \n",
      "1  Esta es la historia de Isis🤗 que decidió hacer...      0         0   \n",
      "2  Gracias @victorianoI y equipo por el análisis ...      0         0   \n",
      "3  ¿Cómo combatir el paro juvenil🥵? #tipdeldia En...      8         4   \n",
      "4  ¿Con ganas de probar si un empleo tecnológico ...      2         2   \n",
      "\n",
      "   Replies  Sentimiento  \n",
      "0        0            1  \n",
      "1        0            1  \n",
      "2        0            1  \n",
      "3        1            0  \n",
      "4        0            1  \n"
     ]
    }
   ],
   "source": [
    "print(df_tweets.head())  # Esto te mostrará las primeras filas de tu DataFrame\n"
   ]
  },
  {
   "cell_type": "code",
   "execution_count": 115,
   "metadata": {},
   "outputs": [],
   "source": [
    "def generate_ngrams(text):\n",
    "    # Asumiendo que 'text' es una cadena de texto\n",
    "    return text.split()\n",
    "\n",
    "x = generate_ngrams(\"Hola Mundo, Era se una vez the future\")"
   ]
  },
  {
   "cell_type": "code",
   "execution_count": 116,
   "metadata": {},
   "outputs": [
    {
     "data": {
      "text/plain": [
       "['Hola', 'Mundo,', 'Era', 'se', 'una', 'vez', 'the', 'future']"
      ]
     },
     "execution_count": 116,
     "metadata": {},
     "output_type": "execute_result"
    }
   ],
   "source": [
    "x"
   ]
  },
  {
   "cell_type": "code",
   "execution_count": 117,
   "metadata": {},
   "outputs": [
    {
     "name": "stdout",
     "output_type": "stream",
     "text": [
      "Empty DataFrame\n",
      "Columns: [word, wordcount]\n",
      "Index: []\n"
     ]
    }
   ],
   "source": [
    "# Ejemplo usando la función anterior\n",
    "df_prueba = contar_ngramas(df_tweets, 'positivo')  # Reemplaza 'positivo' por una etiqueta real de tu DataFrame\n",
    "print(df_prueba.head(20))  # Esto te mostrará los 20 n-gramas más frecuentes en comentarios positivos\n"
   ]
  },
  {
   "cell_type": "code",
   "execution_count": null,
   "metadata": {},
   "outputs": [],
   "source": []
  },
  {
   "cell_type": "code",
   "execution_count": null,
   "metadata": {},
   "outputs": [],
   "source": []
  }
 ],
 "metadata": {
  "kernelspec": {
   "display_name": "base",
   "language": "python",
   "name": "python3"
  },
  "language_info": {
   "codemirror_mode": {
    "name": "ipython",
    "version": 3
   },
   "file_extension": ".py",
   "mimetype": "text/x-python",
   "name": "python",
   "nbconvert_exporter": "python",
   "pygments_lexer": "ipython3",
   "version": "3.9.12"
  }
 },
 "nbformat": 4,
 "nbformat_minor": 2
}
